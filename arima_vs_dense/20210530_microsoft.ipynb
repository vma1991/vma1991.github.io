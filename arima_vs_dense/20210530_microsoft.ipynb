{
 "cells": [
  {
   "cell_type": "markdown",
   "id": "9e0148e7-32d8-4387-90d2-3f436f77fa9f",
   "metadata": {
    "tags": []
   },
   "source": [
    "# Microsoft stock price time series\n",
    "\n",
    "- Data : Microsoft (MSFT) stock price time series ; daily from 2015-01-01 to 2021-01-01\n",
    "- Problem : forecast daily stock prices for december 2020 using all previous data\n",
    "\n",
    "## Dataset\n",
    "\n",
    "- Downloaded from [Yahoo finance](http://finance.yahoo.com)\n",
    "- For each day from 2015-01-01 to 2021-01-01 : opening, high, low, closing and adjusted closing stock prices\n",
    "- Will be using daily high prices (column `High`)"
   ]
  },
  {
   "cell_type": "code",
   "execution_count": 1,
   "id": "33da714f-7a5a-48e0-99c7-d05d6ce861d0",
   "metadata": {},
   "outputs": [],
   "source": [
    "import numpy as np\n",
    "import pandas as pd\n",
    "import matplotlib.pyplot as plt"
   ]
  },
  {
   "cell_type": "code",
   "execution_count": 2,
   "id": "b9e8ea82-2282-4d93-b933-626ce4fcf75d",
   "metadata": {},
   "outputs": [],
   "source": [
    "data_raw = pd.read_table('data/MSFT.csv', sep=',')"
   ]
  },
  {
   "cell_type": "code",
   "execution_count": 3,
   "id": "9cdcd27e-e245-425d-a23d-426d77d4cf17",
   "metadata": {},
   "outputs": [
    {
     "data": {
      "text/html": [
       "<div>\n",
       "<style scoped>\n",
       "    .dataframe tbody tr th:only-of-type {\n",
       "        vertical-align: middle;\n",
       "    }\n",
       "\n",
       "    .dataframe tbody tr th {\n",
       "        vertical-align: top;\n",
       "    }\n",
       "\n",
       "    .dataframe thead th {\n",
       "        text-align: right;\n",
       "    }\n",
       "</style>\n",
       "<table border=\"1\" class=\"dataframe\">\n",
       "  <thead>\n",
       "    <tr style=\"text-align: right;\">\n",
       "      <th></th>\n",
       "      <th>Date</th>\n",
       "      <th>Open</th>\n",
       "      <th>High</th>\n",
       "      <th>Low</th>\n",
       "      <th>Close</th>\n",
       "      <th>Adj Close</th>\n",
       "      <th>Volume</th>\n",
       "    </tr>\n",
       "  </thead>\n",
       "  <tbody>\n",
       "    <tr>\n",
       "      <th>0</th>\n",
       "      <td>2015-01-02</td>\n",
       "      <td>46.660000</td>\n",
       "      <td>47.419998</td>\n",
       "      <td>46.540001</td>\n",
       "      <td>46.759998</td>\n",
       "      <td>41.348206</td>\n",
       "      <td>27913900</td>\n",
       "    </tr>\n",
       "    <tr>\n",
       "      <th>1</th>\n",
       "      <td>2015-01-05</td>\n",
       "      <td>46.369999</td>\n",
       "      <td>46.730000</td>\n",
       "      <td>46.250000</td>\n",
       "      <td>46.330002</td>\n",
       "      <td>40.967976</td>\n",
       "      <td>39673900</td>\n",
       "    </tr>\n",
       "    <tr>\n",
       "      <th>2</th>\n",
       "      <td>2015-01-06</td>\n",
       "      <td>46.380001</td>\n",
       "      <td>46.750000</td>\n",
       "      <td>45.540001</td>\n",
       "      <td>45.650002</td>\n",
       "      <td>40.366688</td>\n",
       "      <td>36447900</td>\n",
       "    </tr>\n",
       "    <tr>\n",
       "      <th>3</th>\n",
       "      <td>2015-01-07</td>\n",
       "      <td>45.980000</td>\n",
       "      <td>46.459999</td>\n",
       "      <td>45.490002</td>\n",
       "      <td>46.230000</td>\n",
       "      <td>40.879539</td>\n",
       "      <td>29114100</td>\n",
       "    </tr>\n",
       "    <tr>\n",
       "      <th>4</th>\n",
       "      <td>2015-01-08</td>\n",
       "      <td>46.750000</td>\n",
       "      <td>47.750000</td>\n",
       "      <td>46.720001</td>\n",
       "      <td>47.590000</td>\n",
       "      <td>42.082142</td>\n",
       "      <td>29645200</td>\n",
       "    </tr>\n",
       "    <tr>\n",
       "      <th>...</th>\n",
       "      <td>...</td>\n",
       "      <td>...</td>\n",
       "      <td>...</td>\n",
       "      <td>...</td>\n",
       "      <td>...</td>\n",
       "      <td>...</td>\n",
       "      <td>...</td>\n",
       "    </tr>\n",
       "    <tr>\n",
       "      <th>1506</th>\n",
       "      <td>2020-12-24</td>\n",
       "      <td>221.419998</td>\n",
       "      <td>223.610001</td>\n",
       "      <td>221.199997</td>\n",
       "      <td>222.750000</td>\n",
       "      <td>221.726166</td>\n",
       "      <td>10550600</td>\n",
       "    </tr>\n",
       "    <tr>\n",
       "      <th>1507</th>\n",
       "      <td>2020-12-28</td>\n",
       "      <td>224.449997</td>\n",
       "      <td>226.029999</td>\n",
       "      <td>223.020004</td>\n",
       "      <td>224.960007</td>\n",
       "      <td>223.925995</td>\n",
       "      <td>17933500</td>\n",
       "    </tr>\n",
       "    <tr>\n",
       "      <th>1508</th>\n",
       "      <td>2020-12-29</td>\n",
       "      <td>226.309998</td>\n",
       "      <td>227.179993</td>\n",
       "      <td>223.580002</td>\n",
       "      <td>224.149994</td>\n",
       "      <td>223.119720</td>\n",
       "      <td>17403200</td>\n",
       "    </tr>\n",
       "    <tr>\n",
       "      <th>1509</th>\n",
       "      <td>2020-12-30</td>\n",
       "      <td>225.229996</td>\n",
       "      <td>225.630005</td>\n",
       "      <td>221.470001</td>\n",
       "      <td>221.679993</td>\n",
       "      <td>220.661072</td>\n",
       "      <td>20272300</td>\n",
       "    </tr>\n",
       "    <tr>\n",
       "      <th>1510</th>\n",
       "      <td>2020-12-31</td>\n",
       "      <td>221.699997</td>\n",
       "      <td>223.000000</td>\n",
       "      <td>219.679993</td>\n",
       "      <td>222.419998</td>\n",
       "      <td>221.397675</td>\n",
       "      <td>20942100</td>\n",
       "    </tr>\n",
       "  </tbody>\n",
       "</table>\n",
       "<p>1511 rows × 7 columns</p>\n",
       "</div>"
      ],
      "text/plain": [
       "            Date        Open        High         Low       Close   Adj Close  \\\n",
       "0     2015-01-02   46.660000   47.419998   46.540001   46.759998   41.348206   \n",
       "1     2015-01-05   46.369999   46.730000   46.250000   46.330002   40.967976   \n",
       "2     2015-01-06   46.380001   46.750000   45.540001   45.650002   40.366688   \n",
       "3     2015-01-07   45.980000   46.459999   45.490002   46.230000   40.879539   \n",
       "4     2015-01-08   46.750000   47.750000   46.720001   47.590000   42.082142   \n",
       "...          ...         ...         ...         ...         ...         ...   \n",
       "1506  2020-12-24  221.419998  223.610001  221.199997  222.750000  221.726166   \n",
       "1507  2020-12-28  224.449997  226.029999  223.020004  224.960007  223.925995   \n",
       "1508  2020-12-29  226.309998  227.179993  223.580002  224.149994  223.119720   \n",
       "1509  2020-12-30  225.229996  225.630005  221.470001  221.679993  220.661072   \n",
       "1510  2020-12-31  221.699997  223.000000  219.679993  222.419998  221.397675   \n",
       "\n",
       "        Volume  \n",
       "0     27913900  \n",
       "1     39673900  \n",
       "2     36447900  \n",
       "3     29114100  \n",
       "4     29645200  \n",
       "...        ...  \n",
       "1506  10550600  \n",
       "1507  17933500  \n",
       "1508  17403200  \n",
       "1509  20272300  \n",
       "1510  20942100  \n",
       "\n",
       "[1511 rows x 7 columns]"
      ]
     },
     "execution_count": 3,
     "metadata": {},
     "output_type": "execute_result"
    }
   ],
   "source": [
    "data_raw"
   ]
  },
  {
   "cell_type": "code",
   "execution_count": 4,
   "id": "2e267f03-e250-49c7-9cb9-b8fa522ea268",
   "metadata": {},
   "outputs": [
    {
     "name": "stdout",
     "output_type": "stream",
     "text": [
      "<class 'pandas.core.frame.DataFrame'>\n",
      "RangeIndex: 1511 entries, 0 to 1510\n",
      "Data columns (total 7 columns):\n",
      " #   Column     Non-Null Count  Dtype  \n",
      "---  ------     --------------  -----  \n",
      " 0   Date       1511 non-null   object \n",
      " 1   Open       1511 non-null   float64\n",
      " 2   High       1511 non-null   float64\n",
      " 3   Low        1511 non-null   float64\n",
      " 4   Close      1511 non-null   float64\n",
      " 5   Adj Close  1511 non-null   float64\n",
      " 6   Volume     1511 non-null   int64  \n",
      "dtypes: float64(5), int64(1), object(1)\n",
      "memory usage: 82.8+ KB\n"
     ]
    }
   ],
   "source": [
    "data_raw.info()"
   ]
  },
  {
   "cell_type": "code",
   "execution_count": 5,
   "id": "69e0b102-29ab-4fea-9504-be547889d2f1",
   "metadata": {},
   "outputs": [],
   "source": [
    "data_raw['Date'] = pd.to_datetime(data_raw['Date'])"
   ]
  },
  {
   "cell_type": "code",
   "execution_count": 6,
   "id": "fe1bffa0-d16b-4de5-a24f-4849fab48602",
   "metadata": {},
   "outputs": [
    {
     "data": {
      "text/plain": [
       "[<matplotlib.lines.Line2D at 0x7f03ead6f2e8>]"
      ]
     },
     "execution_count": 6,
     "metadata": {},
     "output_type": "execute_result"
    },
    {
     "data": {
      "image/png": "[encoded data removed]",
      "text/plain": [
       "<Figure size 1080x720 with 1 Axes>"
      ]
     },
     "metadata": {
      "needs_background": "light"
     },
     "output_type": "display_data"
    }
   ],
   "source": [
    "fig, ax = plt.subplots(figsize=(15,10))\n",
    "plt.plot(data_raw['Date'], data_raw['High'])"
   ]
  },
  {
   "cell_type": "markdown",
   "id": "a1ab8d4b-38c1-474f-94a1-6cd3e4e8a781",
   "metadata": {
    "tags": [],
    "toc-hr-collapsed": true
   },
   "source": [
    "## ARIMA"
   ]
  },
  {
   "cell_type": "markdown",
   "id": "0bacb5e1-1347-4d6c-98fa-5bb6be224958",
   "metadata": {},
   "source": [
    "We'll separate the data for december 2020 (which we will plot alongside the forecasts) and use the rest to fit the model."
   ]
  },
  {
   "cell_type": "code",
   "execution_count": 7,
   "id": "71e655a0-10b5-4155-9e09-a987e04440e7",
   "metadata": {},
   "outputs": [],
   "source": [
    "december_2020 = data_raw[1489:]\n",
    "data_train = data_raw[:1489]"
   ]
  },
  {
   "cell_type": "markdown",
   "id": "80eacca1-7d37-4b4f-9933-8235e219ec7d",
   "metadata": {},
   "source": [
    "### Augmented Dickey Fuller Test"
   ]
  },
  {
   "cell_type": "code",
   "execution_count": 8,
   "id": "97a6b1c1-ebeb-4070-a81e-c225b1517d3f",
   "metadata": {},
   "outputs": [],
   "source": [
    "from statsmodels.tsa.stattools import adfuller"
   ]
  },
  {
   "cell_type": "code",
   "execution_count": 9,
   "id": "ebbfd9ae-5121-47b7-905d-40c5ffea4f98",
   "metadata": {},
   "outputs": [],
   "source": [
    "result = adfuller(data_train['High'])"
   ]
  },
  {
   "cell_type": "code",
   "execution_count": 10,
   "id": "f60b04e6-b7c6-4dea-85c0-8abe57ae84ba",
   "metadata": {},
   "outputs": [
    {
     "name": "stdout",
     "output_type": "stream",
     "text": [
      "ADF Statistic: 1.663830\n",
      "p-value: 0.998037\n"
     ]
    }
   ],
   "source": [
    "print('ADF Statistic: %f' % result[0])\n",
    "print('p-value: %f' % result[1])"
   ]
  },
  {
   "cell_type": "markdown",
   "id": "7f4dc818-14b1-4995-a227-93aa15f2a193",
   "metadata": {},
   "source": [
    "Let's differentiate the series to make it stationary\n",
    "\n",
    "### Order of differencing, ACF Plot"
   ]
  },
  {
   "cell_type": "code",
   "execution_count": 11,
   "id": "3c9bdd9c-677e-4eb4-97ae-64d9161a1ccd",
   "metadata": {},
   "outputs": [],
   "source": [
    "from statsmodels.graphics.tsaplots import plot_acf"
   ]
  },
  {
   "cell_type": "code",
   "execution_count": 12,
   "id": "773cbed5-b158-4f96-8376-c5135fe43c63",
   "metadata": {},
   "outputs": [
    {
     "data": {
      "image/png": "[encoded data removed]",
      "text/plain": [
       "<Figure size 1440x504 with 2 Axes>"
      ]
     },
     "metadata": {
      "needs_background": "light"
     },
     "output_type": "display_data"
    }
   ],
   "source": [
    "#original series\n",
    "fig, (ax1, ax2) = plt.subplots(1, 2, figsize=(20,7))\n",
    "ax1.plot(data_train['Date'], data_train['High'])\n",
    "plot_acf(data_train['High'], ax=ax2);"
   ]
  },
  {
   "cell_type": "code",
   "execution_count": 13,
   "id": "2d472a06-8aee-451a-beb9-cd8e57d286e2",
   "metadata": {},
   "outputs": [
    {
     "data": {
      "image/png": "[encoded data removed]",
      "text/plain": [
       "<Figure size 1440x504 with 2 Axes>"
      ]
     },
     "metadata": {
      "needs_background": "light"
     },
     "output_type": "display_data"
    }
   ],
   "source": [
    "#first order differencing\n",
    "fig, (ax1, ax2) = plt.subplots(1, 2, figsize=(20,7))\n",
    "ax1.plot(data_train['Date'], data_train['High'].diff())\n",
    "plot_acf(data_train['High'].diff().dropna(), ax=ax2);"
   ]
  },
  {
   "cell_type": "code",
   "execution_count": 14,
   "id": "c6b85420-c30f-4911-b0c8-3c44a453369a",
   "metadata": {},
   "outputs": [
    {
     "data": {
      "text/plain": [
       "3.0338612348635163e-16"
      ]
     },
     "execution_count": 14,
     "metadata": {},
     "output_type": "execute_result"
    }
   ],
   "source": [
    "result = adfuller(data_train['High'].diff().dropna())\n",
    "result[1]"
   ]
  },
  {
   "cell_type": "markdown",
   "id": "59343701-eec3-493c-bfb6-2108c00ac6c1",
   "metadata": {},
   "source": [
    "First order differencing makes the time series stationary : using `d = 1`"
   ]
  },
  {
   "cell_type": "code",
   "execution_count": 15,
   "id": "953930e3-69a0-4ca5-a873-c95ffc4a7ebe",
   "metadata": {},
   "outputs": [],
   "source": [
    "high_diff = data_train['High'].diff().dropna()"
   ]
  },
  {
   "cell_type": "markdown",
   "id": "3a5915f7-3bed-442f-835e-48b39b8c66d9",
   "metadata": {},
   "source": [
    "### PACF Plot, AR and MA terms"
   ]
  },
  {
   "cell_type": "code",
   "execution_count": 16,
   "id": "a8dbba2c-7ebe-485a-b3f8-cb71bfffb0f0",
   "metadata": {},
   "outputs": [],
   "source": [
    "from statsmodels.graphics.tsaplots import plot_pacf"
   ]
  },
  {
   "cell_type": "code",
   "execution_count": 17,
   "id": "366d01c5-5d06-4c8a-9b76-0c3acbedc338",
   "metadata": {},
   "outputs": [],
   "source": [
    "index = list(range(0, len(high_diff)))"
   ]
  },
  {
   "cell_type": "code",
   "execution_count": 18,
   "id": "8aa33646-deaa-48c0-bd8a-e27bae61a561",
   "metadata": {},
   "outputs": [
    {
     "data": {
      "image/png": "[encoded data removed]",
      "text/plain": [
       "<Figure size 1440x504 with 2 Axes>"
      ]
     },
     "metadata": {
      "needs_background": "light"
     },
     "output_type": "display_data"
    }
   ],
   "source": [
    "#first order differencing\n",
    "fig, (ax1, ax2) = plt.subplots(1, 2, figsize=(20,7))\n",
    "ax1.plot(index, high_diff)\n",
    "plot_pacf(high_diff, ax=ax2);"
   ]
  },
  {
   "cell_type": "markdown",
   "id": "4cb59662-f076-481e-8e30-ce013c660255",
   "metadata": {},
   "source": [
    "ACF and PACF plots are very similar ; let's try out models with the AR and MA terms in `{1,2}` :\n",
    "\n",
    "- ARIMA(1,1,1)\n",
    "- ARIMA(2,1,1)\n",
    "- ARIMA(1,1,2)\n",
    "- ARIMA(2,1,2)\n",
    "\n",
    "We'll choose the best fit using the model summaries (AIC, BIC, p-values of the parameters)"
   ]
  },
  {
   "cell_type": "markdown",
   "id": "c85bb1d7-5b76-4e9e-80fc-5964310e0a16",
   "metadata": {},
   "source": [
    "### Choosing the best fit"
   ]
  },
  {
   "cell_type": "code",
   "execution_count": 19,
   "id": "2d7c77c1-a8aa-455b-a141-23efd5decb05",
   "metadata": {},
   "outputs": [],
   "source": [
    "from statsmodels.tsa.arima.model import ARIMA"
   ]
  },
  {
   "cell_type": "markdown",
   "id": "a4a166b0-a7d6-4ec6-a366-ef8bd631ca31",
   "metadata": {},
   "source": [
    "**ARIMA(1,1,1)**"
   ]
  },
  {
   "cell_type": "code",
   "execution_count": 20,
   "id": "05b32218-d826-4b87-baac-9ef1558c6597",
   "metadata": {},
   "outputs": [
    {
     "data": {
      "text/html": [
       "<table class=\"simpletable\">\n",
       "<caption>SARIMAX Results</caption>\n",
       "<tr>\n",
       "  <th>Dep. Variable:</th>         <td>High</td>       <th>  No. Observations:  </th>   <td>1489</td>   \n",
       "</tr>\n",
       "<tr>\n",
       "  <th>Model:</th>            <td>ARIMA(1, 1, 1)</td>  <th>  Log Likelihood     </th> <td>-2933.566</td>\n",
       "</tr>\n",
       "<tr>\n",
       "  <th>Date:</th>            <td>Fri, 04 Jun 2021</td> <th>  AIC                </th> <td>5873.132</td> \n",
       "</tr>\n",
       "<tr>\n",
       "  <th>Time:</th>                <td>18:35:27</td>     <th>  BIC                </th> <td>5889.048</td> \n",
       "</tr>\n",
       "<tr>\n",
       "  <th>Sample:</th>                  <td>0</td>        <th>  HQIC               </th> <td>5879.064</td> \n",
       "</tr>\n",
       "<tr>\n",
       "  <th></th>                      <td> - 1489</td>     <th>                     </th>     <td> </td>    \n",
       "</tr>\n",
       "<tr>\n",
       "  <th>Covariance Type:</th>        <td>opg</td>       <th>                     </th>     <td> </td>    \n",
       "</tr>\n",
       "</table>\n",
       "<table class=\"simpletable\">\n",
       "<tr>\n",
       "     <td></td>       <th>coef</th>     <th>std err</th>      <th>z</th>      <th>P>|z|</th>  <th>[0.025</th>    <th>0.975]</th>  \n",
       "</tr>\n",
       "<tr>\n",
       "  <th>ar.L1</th>  <td>   -0.9228</td> <td>    0.031</td> <td>  -29.690</td> <td> 0.000</td> <td>   -0.984</td> <td>   -0.862</td>\n",
       "</tr>\n",
       "<tr>\n",
       "  <th>ma.L1</th>  <td>    0.9482</td> <td>    0.026</td> <td>   35.997</td> <td> 0.000</td> <td>    0.897</td> <td>    1.000</td>\n",
       "</tr>\n",
       "<tr>\n",
       "  <th>sigma2</th> <td>    3.0194</td> <td>    0.043</td> <td>   70.742</td> <td> 0.000</td> <td>    2.936</td> <td>    3.103</td>\n",
       "</tr>\n",
       "</table>\n",
       "<table class=\"simpletable\">\n",
       "<tr>\n",
       "  <th>Ljung-Box (L1) (Q):</th>     <td>0.02</td>  <th>  Jarque-Bera (JB):  </th> <td>8999.49</td>\n",
       "</tr>\n",
       "<tr>\n",
       "  <th>Prob(Q):</th>                <td>0.89</td>  <th>  Prob(JB):          </th>  <td>0.00</td>  \n",
       "</tr>\n",
       "<tr>\n",
       "  <th>Heteroskedasticity (H):</th> <td>14.68</td> <th>  Skew:              </th>  <td>-0.04</td> \n",
       "</tr>\n",
       "<tr>\n",
       "  <th>Prob(H) (two-sided):</th>    <td>0.00</td>  <th>  Kurtosis:          </th>  <td>15.05</td> \n",
       "</tr>\n",
       "</table><br/><br/>Warnings:<br/>[1] Covariance matrix calculated using the outer product of gradients (complex-step)."
      ],
      "text/plain": [
       "<class 'statsmodels.iolib.summary.Summary'>\n",
       "\"\"\"\n",
       "                               SARIMAX Results                                \n",
       "==============================================================================\n",
       "Dep. Variable:                   High   No. Observations:                 1489\n",
       "Model:                 ARIMA(1, 1, 1)   Log Likelihood               -2933.566\n",
       "Date:                Fri, 04 Jun 2021   AIC                           5873.132\n",
       "Time:                        18:35:27   BIC                           5889.048\n",
       "Sample:                             0   HQIC                          5879.064\n",
       "                               - 1489                                         \n",
       "Covariance Type:                  opg                                         \n",
       "==============================================================================\n",
       "                 coef    std err          z      P>|z|      [0.025      0.975]\n",
       "------------------------------------------------------------------------------\n",
       "ar.L1         -0.9228      0.031    -29.690      0.000      -0.984      -0.862\n",
       "ma.L1          0.9482      0.026     35.997      0.000       0.897       1.000\n",
       "sigma2         3.0194      0.043     70.742      0.000       2.936       3.103\n",
       "===================================================================================\n",
       "Ljung-Box (L1) (Q):                   0.02   Jarque-Bera (JB):              8999.49\n",
       "Prob(Q):                              0.89   Prob(JB):                         0.00\n",
       "Heteroskedasticity (H):              14.68   Skew:                            -0.04\n",
       "Prob(H) (two-sided):                  0.00   Kurtosis:                        15.05\n",
       "===================================================================================\n",
       "\n",
       "Warnings:\n",
       "[1] Covariance matrix calculated using the outer product of gradients (complex-step).\n",
       "\"\"\""
      ]
     },
     "execution_count": 20,
     "metadata": {},
     "output_type": "execute_result"
    }
   ],
   "source": [
    "model_111 = ARIMA(data_train['High'], order=(1,1,1))\n",
    "model_111_fit = model_111.fit()\n",
    "model_111_fit.summary()"
   ]
  },
  {
   "cell_type": "markdown",
   "id": "c893b73b-9408-47ce-9f50-0f123b69d999",
   "metadata": {},
   "source": [
    "**ARIMA(2,1,1)**"
   ]
  },
  {
   "cell_type": "code",
   "execution_count": 21,
   "id": "dbd8bf73-cd53-467d-9dc7-5baf3d45fe31",
   "metadata": {},
   "outputs": [
    {
     "data": {
      "text/html": [
       "<table class=\"simpletable\">\n",
       "<caption>SARIMAX Results</caption>\n",
       "<tr>\n",
       "  <th>Dep. Variable:</th>         <td>High</td>       <th>  No. Observations:  </th>   <td>1489</td>   \n",
       "</tr>\n",
       "<tr>\n",
       "  <th>Model:</th>            <td>ARIMA(2, 1, 1)</td>  <th>  Log Likelihood     </th> <td>-2930.716</td>\n",
       "</tr>\n",
       "<tr>\n",
       "  <th>Date:</th>            <td>Fri, 04 Jun 2021</td> <th>  AIC                </th> <td>5869.432</td> \n",
       "</tr>\n",
       "<tr>\n",
       "  <th>Time:</th>                <td>18:35:27</td>     <th>  BIC                </th> <td>5890.653</td> \n",
       "</tr>\n",
       "<tr>\n",
       "  <th>Sample:</th>                  <td>0</td>        <th>  HQIC               </th> <td>5877.341</td> \n",
       "</tr>\n",
       "<tr>\n",
       "  <th></th>                      <td> - 1489</td>     <th>                     </th>     <td> </td>    \n",
       "</tr>\n",
       "<tr>\n",
       "  <th>Covariance Type:</th>        <td>opg</td>       <th>                     </th>     <td> </td>    \n",
       "</tr>\n",
       "</table>\n",
       "<table class=\"simpletable\">\n",
       "<tr>\n",
       "     <td></td>       <th>coef</th>     <th>std err</th>      <th>z</th>      <th>P>|z|</th>  <th>[0.025</th>    <th>0.975]</th>  \n",
       "</tr>\n",
       "<tr>\n",
       "  <th>ar.L1</th>  <td>    0.0726</td> <td>    0.165</td> <td>    0.441</td> <td> 0.659</td> <td>   -0.250</td> <td>    0.396</td>\n",
       "</tr>\n",
       "<tr>\n",
       "  <th>ar.L2</th>  <td>   -0.0865</td> <td>    0.016</td> <td>   -5.358</td> <td> 0.000</td> <td>   -0.118</td> <td>   -0.055</td>\n",
       "</tr>\n",
       "<tr>\n",
       "  <th>ma.L1</th>  <td>   -0.0414</td> <td>    0.166</td> <td>   -0.249</td> <td> 0.804</td> <td>   -0.367</td> <td>    0.285</td>\n",
       "</tr>\n",
       "<tr>\n",
       "  <th>sigma2</th> <td>    3.0079</td> <td>    0.042</td> <td>   72.423</td> <td> 0.000</td> <td>    2.927</td> <td>    3.089</td>\n",
       "</tr>\n",
       "</table>\n",
       "<table class=\"simpletable\">\n",
       "<tr>\n",
       "  <th>Ljung-Box (L1) (Q):</th>     <td>0.04</td>  <th>  Jarque-Bera (JB):  </th> <td>9691.82</td>\n",
       "</tr>\n",
       "<tr>\n",
       "  <th>Prob(Q):</th>                <td>0.85</td>  <th>  Prob(JB):          </th>  <td>0.00</td>  \n",
       "</tr>\n",
       "<tr>\n",
       "  <th>Heteroskedasticity (H):</th> <td>14.78</td> <th>  Skew:              </th>  <td>-0.04</td> \n",
       "</tr>\n",
       "<tr>\n",
       "  <th>Prob(H) (two-sided):</th>    <td>0.00</td>  <th>  Kurtosis:          </th>  <td>15.50</td> \n",
       "</tr>\n",
       "</table><br/><br/>Warnings:<br/>[1] Covariance matrix calculated using the outer product of gradients (complex-step)."
      ],
      "text/plain": [
       "<class 'statsmodels.iolib.summary.Summary'>\n",
       "\"\"\"\n",
       "                               SARIMAX Results                                \n",
       "==============================================================================\n",
       "Dep. Variable:                   High   No. Observations:                 1489\n",
       "Model:                 ARIMA(2, 1, 1)   Log Likelihood               -2930.716\n",
       "Date:                Fri, 04 Jun 2021   AIC                           5869.432\n",
       "Time:                        18:35:27   BIC                           5890.653\n",
       "Sample:                             0   HQIC                          5877.341\n",
       "                               - 1489                                         \n",
       "Covariance Type:                  opg                                         \n",
       "==============================================================================\n",
       "                 coef    std err          z      P>|z|      [0.025      0.975]\n",
       "------------------------------------------------------------------------------\n",
       "ar.L1          0.0726      0.165      0.441      0.659      -0.250       0.396\n",
       "ar.L2         -0.0865      0.016     -5.358      0.000      -0.118      -0.055\n",
       "ma.L1         -0.0414      0.166     -0.249      0.804      -0.367       0.285\n",
       "sigma2         3.0079      0.042     72.423      0.000       2.927       3.089\n",
       "===================================================================================\n",
       "Ljung-Box (L1) (Q):                   0.04   Jarque-Bera (JB):              9691.82\n",
       "Prob(Q):                              0.85   Prob(JB):                         0.00\n",
       "Heteroskedasticity (H):              14.78   Skew:                            -0.04\n",
       "Prob(H) (two-sided):                  0.00   Kurtosis:                        15.50\n",
       "===================================================================================\n",
       "\n",
       "Warnings:\n",
       "[1] Covariance matrix calculated using the outer product of gradients (complex-step).\n",
       "\"\"\""
      ]
     },
     "execution_count": 21,
     "metadata": {},
     "output_type": "execute_result"
    }
   ],
   "source": [
    "model_211 = ARIMA(data_train['High'], order=(2,1,1))\n",
    "model_211_fit = model_211.fit()\n",
    "model_211_fit.summary()"
   ]
  },
  {
   "cell_type": "markdown",
   "id": "fc080f14-1604-4105-934d-c7f834cef054",
   "metadata": {},
   "source": [
    "**ARIMA(2,1,2)**"
   ]
  },
  {
   "cell_type": "code",
   "execution_count": 22,
   "id": "1005b3c9-5f1f-4705-84c3-b130c419d2d3",
   "metadata": {},
   "outputs": [
    {
     "name": "stderr",
     "output_type": "stream",
     "text": [
      "/home/vma/Python/venv/lib/python3.7/site-packages/statsmodels/tsa/statespace/sarimax.py:966: UserWarning: Non-stationary starting autoregressive parameters found. Using zeros as starting parameters.\n",
      "  warn('Non-stationary starting autoregressive parameters'\n",
      "/home/vma/Python/venv/lib/python3.7/site-packages/statsmodels/base/model.py:568: ConvergenceWarning: Maximum Likelihood optimization failed to converge. Check mle_retvals\n",
      "  ConvergenceWarning)\n"
     ]
    },
    {
     "data": {
      "text/html": [
       "<table class=\"simpletable\">\n",
       "<caption>SARIMAX Results</caption>\n",
       "<tr>\n",
       "  <th>Dep. Variable:</th>         <td>High</td>       <th>  No. Observations:  </th>   <td>1489</td>   \n",
       "</tr>\n",
       "<tr>\n",
       "  <th>Model:</th>            <td>ARIMA(2, 1, 2)</td>  <th>  Log Likelihood     </th> <td>-2927.162</td>\n",
       "</tr>\n",
       "<tr>\n",
       "  <th>Date:</th>            <td>Fri, 04 Jun 2021</td> <th>  AIC                </th> <td>5864.325</td> \n",
       "</tr>\n",
       "<tr>\n",
       "  <th>Time:</th>                <td>18:35:29</td>     <th>  BIC                </th> <td>5890.851</td> \n",
       "</tr>\n",
       "<tr>\n",
       "  <th>Sample:</th>                  <td>0</td>        <th>  HQIC               </th> <td>5874.211</td> \n",
       "</tr>\n",
       "<tr>\n",
       "  <th></th>                      <td> - 1489</td>     <th>                     </th>     <td> </td>    \n",
       "</tr>\n",
       "<tr>\n",
       "  <th>Covariance Type:</th>        <td>opg</td>       <th>                     </th>     <td> </td>    \n",
       "</tr>\n",
       "</table>\n",
       "<table class=\"simpletable\">\n",
       "<tr>\n",
       "     <td></td>       <th>coef</th>     <th>std err</th>      <th>z</th>      <th>P>|z|</th>  <th>[0.025</th>    <th>0.975]</th>  \n",
       "</tr>\n",
       "<tr>\n",
       "  <th>ar.L1</th>  <td>   -0.7305</td> <td>    0.007</td> <td> -101.305</td> <td> 0.000</td> <td>   -0.745</td> <td>   -0.716</td>\n",
       "</tr>\n",
       "<tr>\n",
       "  <th>ar.L2</th>  <td>   -0.9715</td> <td>    0.007</td> <td> -135.713</td> <td> 0.000</td> <td>   -0.986</td> <td>   -0.957</td>\n",
       "</tr>\n",
       "<tr>\n",
       "  <th>ma.L1</th>  <td>    0.7577</td> <td>    0.006</td> <td>  121.592</td> <td> 0.000</td> <td>    0.745</td> <td>    0.770</td>\n",
       "</tr>\n",
       "<tr>\n",
       "  <th>ma.L2</th>  <td>    0.9865</td> <td>    0.006</td> <td>  171.734</td> <td> 0.000</td> <td>    0.975</td> <td>    0.998</td>\n",
       "</tr>\n",
       "<tr>\n",
       "  <th>sigma2</th> <td>    3.0062</td> <td>    0.042</td> <td>   71.382</td> <td> 0.000</td> <td>    2.924</td> <td>    3.089</td>\n",
       "</tr>\n",
       "</table>\n",
       "<table class=\"simpletable\">\n",
       "<tr>\n",
       "  <th>Ljung-Box (L1) (Q):</th>     <td>0.01</td>  <th>  Jarque-Bera (JB):  </th> <td>9507.44</td>\n",
       "</tr>\n",
       "<tr>\n",
       "  <th>Prob(Q):</th>                <td>0.91</td>  <th>  Prob(JB):          </th>  <td>0.00</td>  \n",
       "</tr>\n",
       "<tr>\n",
       "  <th>Heteroskedasticity (H):</th> <td>14.80</td> <th>  Skew:              </th>  <td>-0.02</td> \n",
       "</tr>\n",
       "<tr>\n",
       "  <th>Prob(H) (two-sided):</th>    <td>0.00</td>  <th>  Kurtosis:          </th>  <td>15.38</td> \n",
       "</tr>\n",
       "</table><br/><br/>Warnings:<br/>[1] Covariance matrix calculated using the outer product of gradients (complex-step)."
      ],
      "text/plain": [
       "<class 'statsmodels.iolib.summary.Summary'>\n",
       "\"\"\"\n",
       "                               SARIMAX Results                                \n",
       "==============================================================================\n",
       "Dep. Variable:                   High   No. Observations:                 1489\n",
       "Model:                 ARIMA(2, 1, 2)   Log Likelihood               -2927.162\n",
       "Date:                Fri, 04 Jun 2021   AIC                           5864.325\n",
       "Time:                        18:35:29   BIC                           5890.851\n",
       "Sample:                             0   HQIC                          5874.211\n",
       "                               - 1489                                         \n",
       "Covariance Type:                  opg                                         \n",
       "==============================================================================\n",
       "                 coef    std err          z      P>|z|      [0.025      0.975]\n",
       "------------------------------------------------------------------------------\n",
       "ar.L1         -0.7305      0.007   -101.305      0.000      -0.745      -0.716\n",
       "ar.L2         -0.9715      0.007   -135.713      0.000      -0.986      -0.957\n",
       "ma.L1          0.7577      0.006    121.592      0.000       0.745       0.770\n",
       "ma.L2          0.9865      0.006    171.734      0.000       0.975       0.998\n",
       "sigma2         3.0062      0.042     71.382      0.000       2.924       3.089\n",
       "===================================================================================\n",
       "Ljung-Box (L1) (Q):                   0.01   Jarque-Bera (JB):              9507.44\n",
       "Prob(Q):                              0.91   Prob(JB):                         0.00\n",
       "Heteroskedasticity (H):              14.80   Skew:                            -0.02\n",
       "Prob(H) (two-sided):                  0.00   Kurtosis:                        15.38\n",
       "===================================================================================\n",
       "\n",
       "Warnings:\n",
       "[1] Covariance matrix calculated using the outer product of gradients (complex-step).\n",
       "\"\"\""
      ]
     },
     "execution_count": 22,
     "metadata": {},
     "output_type": "execute_result"
    }
   ],
   "source": [
    "model_212 = ARIMA(data_train['High'], order=(2,1,2))\n",
    "model_212_fit = model_212.fit()\n",
    "model_212_fit.summary()"
   ]
  },
  {
   "cell_type": "markdown",
   "id": "546011ff-0c22-4531-98c5-383837a23653",
   "metadata": {},
   "source": [
    "**ARIMA(1,1,2)**"
   ]
  },
  {
   "cell_type": "code",
   "execution_count": 23,
   "id": "092ae062-3dd5-4e11-a503-80a8172c51b2",
   "metadata": {},
   "outputs": [
    {
     "data": {
      "text/html": [
       "<table class=\"simpletable\">\n",
       "<caption>SARIMAX Results</caption>\n",
       "<tr>\n",
       "  <th>Dep. Variable:</th>         <td>High</td>       <th>  No. Observations:  </th>   <td>1511</td>   \n",
       "</tr>\n",
       "<tr>\n",
       "  <th>Model:</th>            <td>ARIMA(1, 1, 2)</td>  <th>  Log Likelihood     </th> <td>-2979.376</td>\n",
       "</tr>\n",
       "<tr>\n",
       "  <th>Date:</th>            <td>Fri, 04 Jun 2021</td> <th>  AIC                </th> <td>5966.753</td> \n",
       "</tr>\n",
       "<tr>\n",
       "  <th>Time:</th>                <td>18:35:29</td>     <th>  BIC                </th> <td>5988.032</td> \n",
       "</tr>\n",
       "<tr>\n",
       "  <th>Sample:</th>                  <td>0</td>        <th>  HQIC               </th> <td>5974.678</td> \n",
       "</tr>\n",
       "<tr>\n",
       "  <th></th>                      <td> - 1511</td>     <th>                     </th>     <td> </td>    \n",
       "</tr>\n",
       "<tr>\n",
       "  <th>Covariance Type:</th>        <td>opg</td>       <th>                     </th>     <td> </td>    \n",
       "</tr>\n",
       "</table>\n",
       "<table class=\"simpletable\">\n",
       "<tr>\n",
       "     <td></td>       <th>coef</th>     <th>std err</th>      <th>z</th>      <th>P>|z|</th>  <th>[0.025</th>    <th>0.975]</th>  \n",
       "</tr>\n",
       "<tr>\n",
       "  <th>ar.L1</th>  <td>    0.0914</td> <td>    0.170</td> <td>    0.537</td> <td> 0.591</td> <td>   -0.242</td> <td>    0.425</td>\n",
       "</tr>\n",
       "<tr>\n",
       "  <th>ma.L1</th>  <td>   -0.0634</td> <td>    0.171</td> <td>   -0.371</td> <td> 0.711</td> <td>   -0.398</td> <td>    0.271</td>\n",
       "</tr>\n",
       "<tr>\n",
       "  <th>ma.L2</th>  <td>   -0.0818</td> <td>    0.016</td> <td>   -5.218</td> <td> 0.000</td> <td>   -0.113</td> <td>   -0.051</td>\n",
       "</tr>\n",
       "<tr>\n",
       "  <th>sigma2</th> <td>    3.0292</td> <td>    0.042</td> <td>   72.015</td> <td> 0.000</td> <td>    2.947</td> <td>    3.112</td>\n",
       "</tr>\n",
       "</table>\n",
       "<table class=\"simpletable\">\n",
       "<tr>\n",
       "  <th>Ljung-Box (L1) (Q):</th>     <td>0.04</td>  <th>  Jarque-Bera (JB):  </th> <td>9231.12</td>\n",
       "</tr>\n",
       "<tr>\n",
       "  <th>Prob(Q):</th>                <td>0.85</td>  <th>  Prob(JB):          </th>  <td>0.00</td>  \n",
       "</tr>\n",
       "<tr>\n",
       "  <th>Heteroskedasticity (H):</th> <td>14.83</td> <th>  Skew:              </th>  <td>-0.02</td> \n",
       "</tr>\n",
       "<tr>\n",
       "  <th>Prob(H) (two-sided):</th>    <td>0.00</td>  <th>  Kurtosis:          </th>  <td>15.11</td> \n",
       "</tr>\n",
       "</table><br/><br/>Warnings:<br/>[1] Covariance matrix calculated using the outer product of gradients (complex-step)."
      ],
      "text/plain": [
       "<class 'statsmodels.iolib.summary.Summary'>\n",
       "\"\"\"\n",
       "                               SARIMAX Results                                \n",
       "==============================================================================\n",
       "Dep. Variable:                   High   No. Observations:                 1511\n",
       "Model:                 ARIMA(1, 1, 2)   Log Likelihood               -2979.376\n",
       "Date:                Fri, 04 Jun 2021   AIC                           5966.753\n",
       "Time:                        18:35:29   BIC                           5988.032\n",
       "Sample:                             0   HQIC                          5974.678\n",
       "                               - 1511                                         \n",
       "Covariance Type:                  opg                                         \n",
       "==============================================================================\n",
       "                 coef    std err          z      P>|z|      [0.025      0.975]\n",
       "------------------------------------------------------------------------------\n",
       "ar.L1          0.0914      0.170      0.537      0.591      -0.242       0.425\n",
       "ma.L1         -0.0634      0.171     -0.371      0.711      -0.398       0.271\n",
       "ma.L2         -0.0818      0.016     -5.218      0.000      -0.113      -0.051\n",
       "sigma2         3.0292      0.042     72.015      0.000       2.947       3.112\n",
       "===================================================================================\n",
       "Ljung-Box (L1) (Q):                   0.04   Jarque-Bera (JB):              9231.12\n",
       "Prob(Q):                              0.85   Prob(JB):                         0.00\n",
       "Heteroskedasticity (H):              14.83   Skew:                            -0.02\n",
       "Prob(H) (two-sided):                  0.00   Kurtosis:                        15.11\n",
       "===================================================================================\n",
       "\n",
       "Warnings:\n",
       "[1] Covariance matrix calculated using the outer product of gradients (complex-step).\n",
       "\"\"\""
      ]
     },
     "execution_count": 23,
     "metadata": {},
     "output_type": "execute_result"
    }
   ],
   "source": [
    "model_112 = ARIMA(data_raw['High'], order=(1,1,2))\n",
    "model_112_fit = model_112.fit()\n",
    "model_112_fit.summary()"
   ]
  },
  {
   "cell_type": "markdown",
   "id": "89b74d53-d8d0-441b-8798-0a9e4a2f2240",
   "metadata": {},
   "source": [
    "Here we could use either ARIMA(1,1,1) or ARIMA(2,1,2) : going with ARIMA(2,1,2) because AIC is lower"
   ]
  },
  {
   "cell_type": "markdown",
   "id": "51280ed4-760c-4bfd-8d4a-40e8d1220671",
   "metadata": {},
   "source": [
    "### Residual error plot"
   ]
  },
  {
   "cell_type": "code",
   "execution_count": 24,
   "id": "3ee57ca2-aeed-4214-b36e-399b4949f838",
   "metadata": {},
   "outputs": [],
   "source": [
    "residuals = model_212_fit.resid[1:]"
   ]
  },
  {
   "cell_type": "code",
   "execution_count": 25,
   "id": "f82d996f-3af7-40b8-a21e-5e5c27e85540",
   "metadata": {},
   "outputs": [
    {
     "data": {
      "text/plain": [
       "(array([0.00053704, 0.00053704, 0.00053704, 0.00107407, 0.00107407,\n",
       "        0.00322221, 0.00429628, 0.01235181, 0.02255547, 0.09290707,\n",
       "        0.44735022, 0.14983279, 0.03705542, 0.01020367, 0.00751849,\n",
       "        0.00214814, 0.00161111, 0.00268518, 0.00107407, 0.00053704]),\n",
       " array([-13.16980215, -11.91840715, -10.66701215,  -9.41561714,\n",
       "         -8.16422214,  -6.91282713,  -5.66143213,  -4.41003713,\n",
       "         -3.15864212,  -1.90724712,  -0.65585212,   0.59554289,\n",
       "          1.84693789,   3.0983329 ,   4.3497279 ,   5.6011229 ,\n",
       "          6.85251791,   8.10391291,   9.35530791,  10.60670292,\n",
       "         11.85809792]),\n",
       " <BarContainer object of 20 artists>)"
      ]
     },
     "execution_count": 25,
     "metadata": {},
     "output_type": "execute_result"
    },
    {
     "data": {
      "image/png": "[encoded data removed]",
      "text/plain": [
       "<Figure size 1440x504 with 2 Axes>"
      ]
     },
     "metadata": {
      "needs_background": "light"
     },
     "output_type": "display_data"
    }
   ],
   "source": [
    "fig, (ax1, ax2) = plt.subplots(1, 2, figsize=(20,7))\n",
    "ax1.plot(residuals)\n",
    "ax2.hist(residuals, bins=20, density=True)"
   ]
  },
  {
   "cell_type": "markdown",
   "id": "cc5e9f39-781d-4e4c-b0a0-88d5023d5c74",
   "metadata": {},
   "source": [
    "The fit is not wrong but the model shows limitations in handling the data roughly starting from 2020, ie the covid-19 pandemic. This already shows in the plot of the time series where the behaviour of stock price drastically changes. We could consider studying the data pre- and post-pandemic start separately."
   ]
  },
  {
   "cell_type": "markdown",
   "id": "dd165a21-59b5-471c-aa60-4027311bf150",
   "metadata": {},
   "source": [
    "### Forecasting"
   ]
  },
  {
   "cell_type": "code",
   "execution_count": 26,
   "id": "feb5c6c8-1bde-4e8c-b2e6-f26fa3e691ce",
   "metadata": {},
   "outputs": [
    {
     "data": {
      "text/html": [
       "<div>\n",
       "<style scoped>\n",
       "    .dataframe tbody tr th:only-of-type {\n",
       "        vertical-align: middle;\n",
       "    }\n",
       "\n",
       "    .dataframe tbody tr th {\n",
       "        vertical-align: top;\n",
       "    }\n",
       "\n",
       "    .dataframe thead th {\n",
       "        text-align: right;\n",
       "    }\n",
       "</style>\n",
       "<table border=\"1\" class=\"dataframe\">\n",
       "  <thead>\n",
       "    <tr style=\"text-align: right;\">\n",
       "      <th>High</th>\n",
       "      <th>mean</th>\n",
       "      <th>mean_se</th>\n",
       "      <th>mean_ci_lower</th>\n",
       "      <th>mean_ci_upper</th>\n",
       "    </tr>\n",
       "  </thead>\n",
       "  <tbody>\n",
       "    <tr>\n",
       "      <th>1489</th>\n",
       "      <td>214.671400</td>\n",
       "      <td>1.733841</td>\n",
       "      <td>211.273134</td>\n",
       "      <td>218.069666</td>\n",
       "    </tr>\n",
       "    <tr>\n",
       "      <th>1490</th>\n",
       "      <td>214.744939</td>\n",
       "      <td>2.485570</td>\n",
       "      <td>209.873312</td>\n",
       "      <td>219.616566</td>\n",
       "    </tr>\n",
       "    <tr>\n",
       "      <th>1491</th>\n",
       "      <td>214.777288</td>\n",
       "      <td>3.052908</td>\n",
       "      <td>208.793698</td>\n",
       "      <td>220.760879</td>\n",
       "    </tr>\n",
       "    <tr>\n",
       "      <th>1492</th>\n",
       "      <td>214.682215</td>\n",
       "      <td>3.510458</td>\n",
       "      <td>207.801844</td>\n",
       "      <td>221.562586</td>\n",
       "    </tr>\n",
       "    <tr>\n",
       "      <th>1493</th>\n",
       "      <td>214.720238</td>\n",
       "      <td>3.931455</td>\n",
       "      <td>207.014728</td>\n",
       "      <td>222.425748</td>\n",
       "    </tr>\n",
       "    <tr>\n",
       "      <th>1494</th>\n",
       "      <td>214.784825</td>\n",
       "      <td>4.316254</td>\n",
       "      <td>206.325123</td>\n",
       "      <td>223.244527</td>\n",
       "    </tr>\n",
       "    <tr>\n",
       "      <th>1495</th>\n",
       "      <td>214.700706</td>\n",
       "      <td>4.652687</td>\n",
       "      <td>205.581608</td>\n",
       "      <td>223.819805</td>\n",
       "    </tr>\n",
       "    <tr>\n",
       "      <th>1496</th>\n",
       "      <td>214.699409</td>\n",
       "      <td>4.973876</td>\n",
       "      <td>204.950791</td>\n",
       "      <td>224.448026</td>\n",
       "    </tr>\n",
       "    <tr>\n",
       "      <th>1497</th>\n",
       "      <td>214.782077</td>\n",
       "      <td>5.284801</td>\n",
       "      <td>204.424057</td>\n",
       "      <td>225.140096</td>\n",
       "    </tr>\n",
       "    <tr>\n",
       "      <th>1498</th>\n",
       "      <td>214.722949</td>\n",
       "      <td>5.565480</td>\n",
       "      <td>203.814809</td>\n",
       "      <td>225.631089</td>\n",
       "    </tr>\n",
       "    <tr>\n",
       "      <th>1499</th>\n",
       "      <td>214.685831</td>\n",
       "      <td>5.833581</td>\n",
       "      <td>203.252222</td>\n",
       "      <td>226.119439</td>\n",
       "    </tr>\n",
       "    <tr>\n",
       "      <th>1500</th>\n",
       "      <td>214.770387</td>\n",
       "      <td>6.100748</td>\n",
       "      <td>202.813141</td>\n",
       "      <td>226.727633</td>\n",
       "    </tr>\n",
       "    <tr>\n",
       "      <th>1501</th>\n",
       "      <td>214.744679</td>\n",
       "      <td>6.348244</td>\n",
       "      <td>202.302349</td>\n",
       "      <td>227.187010</td>\n",
       "    </tr>\n",
       "    <tr>\n",
       "      <th>1502</th>\n",
       "      <td>214.681313</td>\n",
       "      <td>6.582668</td>\n",
       "      <td>201.779521</td>\n",
       "      <td>227.583105</td>\n",
       "    </tr>\n",
       "    <tr>\n",
       "      <th>1503</th>\n",
       "      <td>214.752576</td>\n",
       "      <td>6.819326</td>\n",
       "      <td>201.386943</td>\n",
       "      <td>228.118209</td>\n",
       "    </tr>\n",
       "    <tr>\n",
       "      <th>1504</th>\n",
       "      <td>214.762079</td>\n",
       "      <td>7.044195</td>\n",
       "      <td>200.955710</td>\n",
       "      <td>228.568447</td>\n",
       "    </tr>\n",
       "    <tr>\n",
       "      <th>1505</th>\n",
       "      <td>214.685906</td>\n",
       "      <td>7.255454</td>\n",
       "      <td>200.465478</td>\n",
       "      <td>228.906335</td>\n",
       "    </tr>\n",
       "    <tr>\n",
       "      <th>1506</th>\n",
       "      <td>214.732318</td>\n",
       "      <td>7.468960</td>\n",
       "      <td>200.093426</td>\n",
       "      <td>229.371210</td>\n",
       "    </tr>\n",
       "    <tr>\n",
       "      <th>1507</th>\n",
       "      <td>214.772415</td>\n",
       "      <td>7.676811</td>\n",
       "      <td>199.726142</td>\n",
       "      <td>229.818688</td>\n",
       "    </tr>\n",
       "    <tr>\n",
       "      <th>1508</th>\n",
       "      <td>214.698036</td>\n",
       "      <td>7.871402</td>\n",
       "      <td>199.270372</td>\n",
       "      <td>230.125700</td>\n",
       "    </tr>\n",
       "    <tr>\n",
       "      <th>1509</th>\n",
       "      <td>214.713415</td>\n",
       "      <td>8.066573</td>\n",
       "      <td>198.903223</td>\n",
       "      <td>230.523607</td>\n",
       "    </tr>\n",
       "    <tr>\n",
       "      <th>1510</th>\n",
       "      <td>214.774439</td>\n",
       "      <td>8.260593</td>\n",
       "      <td>198.583974</td>\n",
       "      <td>230.964904</td>\n",
       "    </tr>\n",
       "  </tbody>\n",
       "</table>\n",
       "</div>"
      ],
      "text/plain": [
       "High        mean   mean_se  mean_ci_lower  mean_ci_upper\n",
       "1489  214.671400  1.733841     211.273134     218.069666\n",
       "1490  214.744939  2.485570     209.873312     219.616566\n",
       "1491  214.777288  3.052908     208.793698     220.760879\n",
       "1492  214.682215  3.510458     207.801844     221.562586\n",
       "1493  214.720238  3.931455     207.014728     222.425748\n",
       "1494  214.784825  4.316254     206.325123     223.244527\n",
       "1495  214.700706  4.652687     205.581608     223.819805\n",
       "1496  214.699409  4.973876     204.950791     224.448026\n",
       "1497  214.782077  5.284801     204.424057     225.140096\n",
       "1498  214.722949  5.565480     203.814809     225.631089\n",
       "1499  214.685831  5.833581     203.252222     226.119439\n",
       "1500  214.770387  6.100748     202.813141     226.727633\n",
       "1501  214.744679  6.348244     202.302349     227.187010\n",
       "1502  214.681313  6.582668     201.779521     227.583105\n",
       "1503  214.752576  6.819326     201.386943     228.118209\n",
       "1504  214.762079  7.044195     200.955710     228.568447\n",
       "1505  214.685906  7.255454     200.465478     228.906335\n",
       "1506  214.732318  7.468960     200.093426     229.371210\n",
       "1507  214.772415  7.676811     199.726142     229.818688\n",
       "1508  214.698036  7.871402     199.270372     230.125700\n",
       "1509  214.713415  8.066573     198.903223     230.523607\n",
       "1510  214.774439  8.260593     198.583974     230.964904"
      ]
     },
     "execution_count": 26,
     "metadata": {},
     "output_type": "execute_result"
    }
   ],
   "source": [
    "model_212_forecast = model_212_fit.get_forecast(steps=22).summary_frame(alpha=0.05)\n",
    "model_212_forecast"
   ]
  },
  {
   "cell_type": "code",
   "execution_count": 27,
   "id": "31b82810-c857-44ba-ada5-b9a84c08bebb",
   "metadata": {},
   "outputs": [
    {
     "data": {
      "text/plain": [
       "<matplotlib.legend.Legend at 0x7f03c83b1400>"
      ]
     },
     "execution_count": 27,
     "metadata": {},
     "output_type": "execute_result"
    },
    {
     "data": {
      "image/png": "[encoded data removed]",
      "text/plain": [
       "<Figure size 1080x720 with 1 Axes>"
      ]
     },
     "metadata": {
      "needs_background": "light"
     },
     "output_type": "display_data"
    }
   ],
   "source": [
    "fig, ax = plt.subplots(figsize=(15, 10))\n",
    "plt.plot(december_2020['Date'], december_2020['High'], label='Actual data')\n",
    "plt.plot(december_2020['Date'], model_212_forecast['mean'], label='Forecast')\n",
    "plt.plot(december_2020['Date'], model_212_forecast['mean_ci_lower'], ls='--', label='Forecast lower CI')\n",
    "plt.plot(december_2020['Date'], model_212_forecast['mean_ci_upper'], ls='--', label='Forecast upper CI')\n",
    "plt.legend()"
   ]
  },
  {
   "cell_type": "markdown",
   "id": "7dd59216-e60b-4148-b2be-587e6bd9a50d",
   "metadata": {},
   "source": [
    "## LSTM\n",
    "\n",
    "Using Keras (Tensorflow)\n",
    "\n",
    "### Training, validation and testing sets"
   ]
  },
  {
   "cell_type": "code",
   "execution_count": 28,
   "id": "8c5f6546-b8b6-4de7-ae11-057b26b7a6b0",
   "metadata": {},
   "outputs": [],
   "source": [
    "import tensorflow as tf\n",
    "import pandas as pd\n",
    "import numpy as np\n",
    "import matplotlib.pyplot as plt"
   ]
  },
  {
   "cell_type": "code",
   "execution_count": 29,
   "id": "8d01da9d-4dd5-4560-b961-6298578255b9",
   "metadata": {},
   "outputs": [],
   "source": [
    "data_raw = pd.read_table('data/MSFT.csv', sep=',')"
   ]
  },
  {
   "cell_type": "markdown",
   "id": "2d83e42c-f37b-4933-baaa-73bd6625581e",
   "metadata": {},
   "source": [
    "Using the data for december 2020 as a test set, splitting the rest 80% training 20% validation."
   ]
  },
  {
   "cell_type": "code",
   "execution_count": 30,
   "id": "b36a6fc0-2699-44d5-ac7a-52543d855ee9",
   "metadata": {},
   "outputs": [],
   "source": [
    "data_test = data_raw[1489:]\n",
    "data_rest = data_raw[:1489]"
   ]
  },
  {
   "cell_type": "code",
   "execution_count": 31,
   "id": "198b51e4-4607-4831-bebb-4fcff0142242",
   "metadata": {},
   "outputs": [],
   "source": [
    "n = len(data_rest)\n",
    "data_train = data_rest[:int(n*0.8)]\n",
    "data_val = data_rest[int(n*0.8):]"
   ]
  },
  {
   "cell_type": "code",
   "execution_count": 32,
   "id": "e9e5bd93-3832-407c-a17e-1eff3ee75374",
   "metadata": {},
   "outputs": [],
   "source": [
    "data_high = data_raw['High'].to_list()"
   ]
  },
  {
   "cell_type": "code",
   "execution_count": 33,
   "id": "08413ba6-f90a-48b9-ac17-ecda9866f0e7",
   "metadata": {},
   "outputs": [],
   "source": [
    "test_ds = data_high[1489:]\n",
    "data_high = data_high[:1489]"
   ]
  },
  {
   "cell_type": "code",
   "execution_count": 34,
   "id": "8654c12e-ed8b-4da8-a5c1-d33eaab59315",
   "metadata": {},
   "outputs": [],
   "source": [
    "n = len(data_high)\n",
    "train_ds = data_high[:int(n*0.8)]\n",
    "val_ds = data_high[int(n*0.8):]"
   ]
  },
  {
   "cell_type": "markdown",
   "id": "ca68d7fd-3096-4cd8-9d5a-7a2e49611f94",
   "metadata": {},
   "source": [
    "### Normalization"
   ]
  },
  {
   "cell_type": "code",
   "execution_count": 35,
   "id": "a84fa17c-cadb-4a8c-8d7c-120f710e9622",
   "metadata": {},
   "outputs": [],
   "source": [
    "data_mean = np.mean(train_ds)"
   ]
  },
  {
   "cell_type": "code",
   "execution_count": 36,
   "id": "a79f3708-cc66-4831-8dfd-5b693621943d",
   "metadata": {},
   "outputs": [],
   "source": [
    "data_stdev = np.std(train_ds)"
   ]
  },
  {
   "cell_type": "code",
   "execution_count": 37,
   "id": "639a0a6c-4567-47d6-9c21-79fe8d6ef22c",
   "metadata": {},
   "outputs": [],
   "source": [
    "train_ds = train_ds - data_mean\n",
    "train_ds = train_ds / data_stdev"
   ]
  },
  {
   "cell_type": "code",
   "execution_count": 38,
   "id": "b34f095f-2dc6-4130-bb7d-60e329e0ea69",
   "metadata": {},
   "outputs": [],
   "source": [
    "val_ds = val_ds - data_mean\n",
    "val_ds = val_ds / data_stdev"
   ]
  },
  {
   "cell_type": "markdown",
   "id": "c66376f1-3bd0-4cf6-9437-10ebc640c5eb",
   "metadata": {},
   "source": [
    "### Windowing\n",
    "\n",
    "Using the `WindowGenerator` class from the [TensorFlow website](https://www.tensorflow.org/tutorials/structured_data/time_series)"
   ]
  },
  {
   "cell_type": "code",
   "execution_count": 2,
   "id": "a904b90a-3c5e-45cf-b23c-6fd529c467da",
   "metadata": {},
   "outputs": [
    {
     "ename": "NameError",
     "evalue": "name 'pd' is not defined",
     "output_type": "error",
     "traceback": [
      "\u001b[0;31m---------------------------------------------------------------------------\u001b[0m",
      "\u001b[0;31mNameError\u001b[0m                                 Traceback (most recent call last)",
      "\u001b[0;32m<ipython-input-2-84c901c3ae24>\u001b[0m in \u001b[0;36m<module>\u001b[0;34m\u001b[0m\n\u001b[0;32m----> 1\u001b[0;31m \u001b[0mdata_raw\u001b[0m \u001b[0;34m=\u001b[0m \u001b[0mpd\u001b[0m\u001b[0;34m.\u001b[0m\u001b[0mread_table\u001b[0m\u001b[0;34m(\u001b[0m\u001b[0;34m'data/MSFT.csv'\u001b[0m\u001b[0;34m,\u001b[0m \u001b[0msep\u001b[0m\u001b[0;34m=\u001b[0m\u001b[0;34m','\u001b[0m\u001b[0;34m)\u001b[0m\u001b[0;34m\u001b[0m\u001b[0;34m\u001b[0m\u001b[0m\n\u001b[0m\u001b[1;32m      2\u001b[0m \u001b[0mhigh_raw\u001b[0m \u001b[0;34m=\u001b[0m \u001b[0mdata_raw\u001b[0m\u001b[0;34m.\u001b[0m\u001b[0mloc\u001b[0m\u001b[0;34m[\u001b[0m\u001b[0;34m:\u001b[0m\u001b[0;34m,\u001b[0m \u001b[0;34m[\u001b[0m\u001b[0;34m'High'\u001b[0m\u001b[0;34m]\u001b[0m\u001b[0;34m]\u001b[0m\u001b[0;34m\u001b[0m\u001b[0;34m\u001b[0m\u001b[0m\n",
      "\u001b[0;31mNameError\u001b[0m: name 'pd' is not defined"
     ]
    }
   ],
   "source": [
    "data_raw = pd.read_table('data/MSFT.csv', sep=',')\n",
    "high_raw = data_raw.loc[:, ['High']]"
   ]
  },
  {
   "cell_type": "code",
   "execution_count": 3,
   "id": "3471a1f1-87cd-48ed-ad15-b3e26d2a79ca",
   "metadata": {},
   "outputs": [
    {
     "ename": "NameError",
     "evalue": "name 'high_raw' is not defined",
     "output_type": "error",
     "traceback": [
      "\u001b[0;31m---------------------------------------------------------------------------\u001b[0m",
      "\u001b[0;31mNameError\u001b[0m                                 Traceback (most recent call last)",
      "\u001b[0;32m<ipython-input-3-2eb56c68f320>\u001b[0m in \u001b[0;36m<module>\u001b[0;34m\u001b[0m\n\u001b[0;32m----> 1\u001b[0;31m \u001b[0mhigh_test\u001b[0m \u001b[0;34m=\u001b[0m \u001b[0mhigh_raw\u001b[0m\u001b[0;34m[\u001b[0m\u001b[0;36m1489\u001b[0m\u001b[0;34m:\u001b[0m\u001b[0;34m]\u001b[0m\u001b[0;34m\u001b[0m\u001b[0;34m\u001b[0m\u001b[0m\n\u001b[0m\u001b[1;32m      2\u001b[0m \u001b[0mhigh_raw\u001b[0m \u001b[0;34m=\u001b[0m \u001b[0mhigh_raw\u001b[0m\u001b[0;34m[\u001b[0m\u001b[0;34m:\u001b[0m\u001b[0;36m1489\u001b[0m\u001b[0;34m]\u001b[0m\u001b[0;34m\u001b[0m\u001b[0;34m\u001b[0m\u001b[0m\n\u001b[1;32m      3\u001b[0m \u001b[0;34m\u001b[0m\u001b[0m\n\u001b[1;32m      4\u001b[0m \u001b[0mn\u001b[0m \u001b[0;34m=\u001b[0m \u001b[0mlen\u001b[0m\u001b[0;34m(\u001b[0m\u001b[0mhigh_raw\u001b[0m\u001b[0;34m)\u001b[0m\u001b[0;34m\u001b[0m\u001b[0;34m\u001b[0m\u001b[0m\n\u001b[1;32m      5\u001b[0m \u001b[0mhigh_train\u001b[0m \u001b[0;34m=\u001b[0m \u001b[0mhigh_raw\u001b[0m\u001b[0;34m[\u001b[0m\u001b[0;34m:\u001b[0m\u001b[0mint\u001b[0m\u001b[0;34m(\u001b[0m\u001b[0mn\u001b[0m\u001b[0;34m*\u001b[0m\u001b[0;36m0.8\u001b[0m\u001b[0;34m)\u001b[0m\u001b[0;34m]\u001b[0m\u001b[0;34m\u001b[0m\u001b[0;34m\u001b[0m\u001b[0m\n",
      "\u001b[0;31mNameError\u001b[0m: name 'high_raw' is not defined"
     ]
    }
   ],
   "source": [
    "high_test = high_raw[1489:]\n",
    "high_raw = high_raw[:1489]\n",
    "\n",
    "n = len(high_raw)\n",
    "high_train = high_raw[:int(n*0.8)]\n",
    "high_val = high_raw[int(n*0.8):]\n",
    "\n",
    "high_mean = np.mean(high_train)\n",
    "high_std = np.std(high_train)\n",
    "\n",
    "high_train = (high_train - high_mean) / high_std\n",
    "high_test = (high_test - high_mean) / high_std\n",
    "high_val = (high_val - high_mean) / high_std"
   ]
  },
  {
   "cell_type": "code",
   "execution_count": 69,
   "id": "27c2c3ef-6183-4b98-8cf9-eae6fbd9209b",
   "metadata": {},
   "outputs": [],
   "source": [
    "class WindowGenerator():\n",
    "    def __init__(self,\n",
    "                 input_width,\n",
    "                 label_width,\n",
    "                 shift,\n",
    "                 train_df,\n",
    "                 val_df,\n",
    "                 test_df,\n",
    "                 label_columns=None):\n",
    "        #raw data\n",
    "        self.train_df = train_df\n",
    "        self.val_df = val_df\n",
    "        self.test_df = test_df\n",
    "        \n",
    "        #label column indices\n",
    "        self.label_columns = label_columns\n",
    "        if label_columns is not None:\n",
    "            self.label_columns_indices = {name: i for i, name in enumerate(label_columns)}\n",
    "        self.column_indices = {name: i for i, name in enumerate(train_df.columns)}\n",
    "        \n",
    "        #window parameters\n",
    "        self.input_width = input_width\n",
    "        self.label_width = label_width\n",
    "        self.shift = shift\n",
    "        \n",
    "        self.total_window_size = input_width + shift\n",
    "        \n",
    "        self.input_slice = slice(0, input_width)\n",
    "        self.input_indices = np.arange(self.total_window_size)[self.input_slice]\n",
    "        \n",
    "        self.label_start = self.total_window_size - self.label_width\n",
    "        self.labels_slice = slice(self.label_start, None)\n",
    "        self.label_indices = np.arange(self.total_window_size)[self.labels_slice]\n",
    "    \n",
    "    def __repr__(self):\n",
    "        return '\\n'.join([\n",
    "            f'Total window size : {self.total_window_size}',\n",
    "            f'Input indices : {self.input_indices}',\n",
    "            f'Label indices : {self.label_indices}',\n",
    "            f'Label column name(s) : {self.label_columns}'\n",
    "        ])"
   ]
  },
  {
   "cell_type": "code",
   "execution_count": 42,
   "id": "b3e60498-672b-4a72-ae56-89fd43f4190f",
   "metadata": {},
   "outputs": [],
   "source": [
    "w1 = WindowGenerator(input_width=24,\n",
    "                     label_width=1,\n",
    "                     shift=24,\n",
    "                     train_df=high_train,\n",
    "                     val_df=high_val,\n",
    "                     test_df=high_test,\n",
    "                     label_columns=['High'])"
   ]
  },
  {
   "cell_type": "code",
   "execution_count": 43,
   "id": "66512b7a-9f56-438e-8b12-05f8c6b51ef8",
   "metadata": {},
   "outputs": [
    {
     "data": {
      "text/plain": [
       "Total window size : 48\n",
       "Input indices : [ 0  1  2  3  4  5  6  7  8  9 10 11 12 13 14 15 16 17 18 19 20 21 22 23]\n",
       "Label indices : [47]\n",
       "Label column name(s) : ['High']"
      ]
     },
     "execution_count": 43,
     "metadata": {},
     "output_type": "execute_result"
    }
   ],
   "source": [
    "w1"
   ]
  },
  {
   "cell_type": "code",
   "execution_count": 44,
   "id": "43e794db-381e-47e0-95d9-7bc4cf1f31dc",
   "metadata": {},
   "outputs": [],
   "source": [
    "w2 = WindowGenerator(input_width=6,\n",
    "                    label_width=1,\n",
    "                    shift=1,\n",
    "                    train_df = high_train,\n",
    "                    val_df = high_val,\n",
    "                    test_df = high_test,\n",
    "                    label_columns=['High'])"
   ]
  },
  {
   "cell_type": "code",
   "execution_count": 45,
   "id": "a2ab59eb-a711-4a50-b003-560d86ccbb9c",
   "metadata": {},
   "outputs": [
    {
     "data": {
      "text/plain": [
       "Total window size : 7\n",
       "Input indices : [0 1 2 3 4 5]\n",
       "Label indices : [6]\n",
       "Label column name(s) : ['High']"
      ]
     },
     "execution_count": 45,
     "metadata": {},
     "output_type": "execute_result"
    }
   ],
   "source": [
    "w2"
   ]
  },
  {
   "cell_type": "code",
   "execution_count": 70,
   "id": "42bd412f-8c4d-41f5-b18f-55c5248f7a8c",
   "metadata": {},
   "outputs": [],
   "source": [
    "def split_window(self, features):\n",
    "    inputs = features[:, self.input_slice, :]\n",
    "    labels = features[:, self.labels_slice, :]\n",
    "    \n",
    "    if self.label_columns is not None:\n",
    "        labels = tf.stack(\n",
    "            [labels[:, :, self.column_indices[name]] for name in self.label_columns],\n",
    "            axis=-1)\n",
    "    \n",
    "    #set shape manually to make the tf.data.Dataset objetcs easier to inspect\n",
    "    inputs.set_shape([None, self.input_width, None])\n",
    "    labels.set_shape([None, self.label_width, None])\n",
    "    \n",
    "    return inputs, labels\n",
    "\n",
    "WindowGenerator.split_window = split_window"
   ]
  },
  {
   "cell_type": "code",
   "execution_count": 47,
   "id": "9f9d60df-f6a9-4fae-a0ea-5752cfbe376c",
   "metadata": {},
   "outputs": [],
   "source": [
    "example_window = tf.stack([\n",
    "    np.array(high_train[:w2.total_window_size]),\n",
    "    np.array(high_train[100:100+w2.total_window_size]),\n",
    "    np.array(high_train[200:200+w2.total_window_size])\n",
    "])"
   ]
  },
  {
   "cell_type": "code",
   "execution_count": 48,
   "id": "503f393f-5482-4e0a-9824-bb6f32cdbb10",
   "metadata": {},
   "outputs": [],
   "source": [
    "example_inputs, example_labels = w2.split_window(example_window)"
   ]
  },
  {
   "cell_type": "code",
   "execution_count": 49,
   "id": "c39801a9-86cb-4128-a10d-29e80ed00a9a",
   "metadata": {},
   "outputs": [
    {
     "name": "stdout",
     "output_type": "stream",
     "text": [
      "All shapes are : (batch, time, features)\n",
      "Window shape : (3, 7, 1)\n",
      "Inputs shape : (3, 6, 1)\n",
      "Labels shape : (3, 1, 1)\n"
     ]
    }
   ],
   "source": [
    "print('All shapes are : (batch, time, features)')\n",
    "print(f'Window shape : {example_window.shape}')\n",
    "print(f'Inputs shape : {example_inputs.shape}')\n",
    "print(f'Labels shape : {example_labels.shape}')"
   ]
  },
  {
   "cell_type": "code",
   "execution_count": 50,
   "id": "695ad5b3-9e53-4750-92ae-3663055d8374",
   "metadata": {},
   "outputs": [],
   "source": [
    "w2.example = example_inputs, example_labels"
   ]
  },
  {
   "cell_type": "code",
   "execution_count": 112,
   "id": "bf74a241-3418-4a9b-8c6a-bc394302cea6",
   "metadata": {},
   "outputs": [],
   "source": [
    "def plot(self, model, plot_col, max_subplots=3):\n",
    "    inputs, labels = self.example\n",
    "    plt.figure(figsize=(12,8))\n",
    "    plot_col_index = self.column_indices[plot_col]\n",
    "    \n",
    "    max_n = min(max_subplots, len(inputs))\n",
    "    for n in range(max_n):\n",
    "        plt.subplot(max_n, 1, n+1)\n",
    "        plt.ylabel(f'{plot_col} [normed]')\n",
    "        plt.plot(self.input_indices, inputs[n, :, plot_col_index], label='Inputs', marker='.', zorder=-10)\n",
    "        \n",
    "        if self.label_columns:\n",
    "            label_col_index = self.label_columns_indices.get(plot_col, None)\n",
    "        else:\n",
    "            label_col_index = plot_col_index\n",
    "            \n",
    "        if label_col_index is None:\n",
    "            continue\n",
    "        \n",
    "        plt.scatter(self.label_indices, labels[n, :, label_col_index], edgecolors='k', label='Labels', c='#2ca02c', s=64)\n",
    "        \n",
    "        if model is not None:\n",
    "            predictions = model(inputs)\n",
    "            plt.scatter(self.label_indices, predictions[n, :, label_col_index], marker='X', edgecolors='k', label='Predictions', c='#ff7f0e', s=64)\n",
    "        \n",
    "        if n == 0:\n",
    "            plt.legend()\n",
    "    \n",
    "    plt.xlabel('Time')"
   ]
  },
  {
   "cell_type": "code",
   "execution_count": 118,
   "id": "20e485f3-cf1d-4ad2-991c-766458a0e250",
   "metadata": {},
   "outputs": [],
   "source": [
    "WindowGenerator.plot = plot"
   ]
  },
  {
   "cell_type": "code",
   "execution_count": 53,
   "id": "1d9e13f1-9f3f-40dc-85a0-b2124c119d44",
   "metadata": {},
   "outputs": [
    {
     "data": {
      "image/png": "[encoded data removed]",
      "text/plain": [
       "<Figure size 864x576 with 3 Axes>"
      ]
     },
     "metadata": {
      "needs_background": "light"
     },
     "output_type": "display_data"
    }
   ],
   "source": [
    "w2.plot(model=None, plot_col='High')"
   ]
  },
  {
   "cell_type": "code",
   "execution_count": 72,
   "id": "432b9f5a-a498-478f-8053-b3f46a58f544",
   "metadata": {},
   "outputs": [],
   "source": [
    "def make_dataset(self, data):\n",
    "    data = np.array(data, dtype=np.float32)\n",
    "    ds = tf.keras.preprocessing.timeseries_dataset_from_array(\n",
    "        data=data,\n",
    "        targets=None,\n",
    "        sequence_length=self.total_window_size,\n",
    "        sequence_stride=1,\n",
    "        shuffle=True,\n",
    "        batch_size=32\n",
    "    )\n",
    "    \n",
    "    ds = ds.map(self.split_window)\n",
    "    return ds"
   ]
  },
  {
   "cell_type": "code",
   "execution_count": 73,
   "id": "919bf483-8486-4383-a514-546858414a43",
   "metadata": {},
   "outputs": [],
   "source": [
    "WindowGenerator.make_dataset = make_dataset"
   ]
  },
  {
   "cell_type": "code",
   "execution_count": 74,
   "id": "6f894d0e-cd60-4c89-af23-722e3e829c2e",
   "metadata": {},
   "outputs": [],
   "source": [
    "@property\n",
    "def train(self):\n",
    "    return self.make_dataset(self.train_df)\n",
    "\n",
    "@property\n",
    "def val(self):\n",
    "    return self.make_dataset(self.val_df)\n",
    "\n",
    "@property\n",
    "def test(self):\n",
    "    return self.make_dataset(self.test_df)\n",
    "\n",
    "@property\n",
    "def example(self):\n",
    "    \"\"\"Get and cache an example batch of inputs, labels for plotting\"\"\"\n",
    "    result = getattr(self, '_example', None)\n",
    "    if result is None:\n",
    "        # No example batch was found, so get one from the train dataset\n",
    "        result = next(iter(self.train))\n",
    "        # Cache it\n",
    "        self._example = result\n",
    "    \n",
    "    return result"
   ]
  },
  {
   "cell_type": "code",
   "execution_count": 75,
   "id": "bb2421ca-6b57-4942-a0d6-29dc32658b4a",
   "metadata": {},
   "outputs": [],
   "source": [
    "WindowGenerator.train = train\n",
    "WindowGenerator.val = val\n",
    "WindowGenerator.test = test\n",
    "WindowGenerator.example = example"
   ]
  },
  {
   "cell_type": "code",
   "execution_count": 58,
   "id": "f844e7dd-413c-4068-aad3-a3fcf70d8fa2",
   "metadata": {},
   "outputs": [
    {
     "data": {
      "text/plain": [
       "(TensorSpec(shape=(None, 6, 1), dtype=tf.float32, name=None),\n",
       " TensorSpec(shape=(None, 1, 1), dtype=tf.float32, name=None))"
      ]
     },
     "execution_count": 58,
     "metadata": {},
     "output_type": "execute_result"
    }
   ],
   "source": [
    "w2.train.element_spec"
   ]
  },
  {
   "cell_type": "code",
   "execution_count": 59,
   "id": "c0643e84-8989-40eb-88c1-5f7f6e63bfb8",
   "metadata": {},
   "outputs": [
    {
     "name": "stdout",
     "output_type": "stream",
     "text": [
      "Inputs shape (batch, time, features): (32, 6, 1)\n",
      "Labels shape (batch, time, features): (32, 1, 1)\n"
     ]
    }
   ],
   "source": [
    "for example_inputs, example_labels in w2.train.take(1):\n",
    "    print(f'Inputs shape (batch, time, features): {example_inputs.shape}')\n",
    "    print(f'Labels shape (batch, time, features): {example_labels.shape}')"
   ]
  },
  {
   "cell_type": "code",
   "execution_count": 60,
   "id": "7bbff845-216f-41a7-a77d-04369c30b551",
   "metadata": {},
   "outputs": [],
   "source": [
    "single_step_window = WindowGenerator(\n",
    "    input_width=1,\n",
    "    label_width=1,\n",
    "    shift=1,\n",
    "    train_df=high_train,\n",
    "    val_df=high_val,\n",
    "    test_df=high_test,\n",
    "    label_columns=['High']\n",
    ")"
   ]
  },
  {
   "cell_type": "code",
   "execution_count": 61,
   "id": "6c743091-df5b-4dc8-be13-99770906eef0",
   "metadata": {},
   "outputs": [
    {
     "data": {
      "text/plain": [
       "Total window size : 2\n",
       "Input indices : [0]\n",
       "Label indices : [1]\n",
       "Label column name(s) : ['High']"
      ]
     },
     "execution_count": 61,
     "metadata": {},
     "output_type": "execute_result"
    }
   ],
   "source": [
    "single_step_window"
   ]
  },
  {
   "cell_type": "code",
   "execution_count": 62,
   "id": "5536a78d-7d95-4beb-ba20-79e44c4bdcf3",
   "metadata": {},
   "outputs": [
    {
     "name": "stdout",
     "output_type": "stream",
     "text": [
      "Inputs shape (batch, time, features): (32, 1, 1)\n",
      "Labels shape (batch, time, features): (32, 1, 1)\n"
     ]
    }
   ],
   "source": [
    "for example_inputs, example_labels in single_step_window.train.take(1):\n",
    "    print(f'Inputs shape (batch, time, features): {example_inputs.shape}')\n",
    "    print(f'Labels shape (batch, time, features): {example_labels.shape}')"
   ]
  },
  {
   "cell_type": "code",
   "execution_count": 63,
   "id": "5580088e-8e8e-42bd-9841-ea4c5576b326",
   "metadata": {},
   "outputs": [],
   "source": [
    "class BaseLine(tf.keras.Model):\n",
    "    def __init__(self, label_index=None):\n",
    "        super().__init__()\n",
    "        self.label_index = label_index\n",
    "    \n",
    "    def call(self, inputs):\n",
    "        if self.label_index is None:\n",
    "            return inputs\n",
    "        result = inputs[:, :, self.label_index]\n",
    "        return result[:, :, tf.newaxis]"
   ]
  },
  {
   "cell_type": "code",
   "execution_count": null,
   "id": "78ea7854-9e3e-4f28-8d9b-fe677a942cd1",
   "metadata": {},
   "outputs": [],
   "source": [
    "wide_window = WindowGenerator(\n",
    "    input_width=10,\n",
    "    label_width=10,\n",
    "    shift=1,\n",
    "    train_df=high_train,\n",
    "    val_df=high_val,\n",
    "    test_df=high_test,\n",
    "    label_columns=['High']\n",
    ")"
   ]
  },
  {
   "cell_type": "code",
   "execution_count": 64,
   "id": "cf01728f-7b05-48a1-a42f-0d8d35573a64",
   "metadata": {},
   "outputs": [
    {
     "ename": "NameError",
     "evalue": "name 'wide_window' is not defined",
     "output_type": "error",
     "traceback": [
      "\u001b[0;31m---------------------------------------------------------------------------\u001b[0m",
      "\u001b[0;31mNameError\u001b[0m                                 Traceback (most recent call last)",
      "\u001b[0;32m<ipython-input-64-1deccdbf592c>\u001b[0m in \u001b[0;36m<module>\u001b[0;34m\u001b[0m\n\u001b[0;32m----> 1\u001b[0;31m \u001b[0mwide_window\u001b[0m\u001b[0;34m.\u001b[0m\u001b[0mcolumn_indices\u001b[0m\u001b[0;34m[\u001b[0m\u001b[0;34m'High'\u001b[0m\u001b[0;34m]\u001b[0m\u001b[0;34m\u001b[0m\u001b[0;34m\u001b[0m\u001b[0m\n\u001b[0m",
      "\u001b[0;31mNameError\u001b[0m: name 'wide_window' is not defined"
     ]
    }
   ],
   "source": [
    "wide_window.column_indices['High']"
   ]
  },
  {
   "cell_type": "code",
   "execution_count": null,
   "id": "a30bfbce-0ae1-41d3-a908-f4ee40538e76",
   "metadata": {},
   "outputs": [],
   "source": [
    "baseline = BaseLine(label_index=wide_window.column_indices['High'])"
   ]
  },
  {
   "cell_type": "code",
   "execution_count": null,
   "id": "a44f9143-ee1d-42d3-bde4-70d9e2b5b37c",
   "metadata": {},
   "outputs": [],
   "source": [
    "baseline.compile(\n",
    "    loss = tf.losses.MeanSquaredError(),\n",
    "    metrics=[tf.metrics.MeanAbsoluteError()]\n",
    ")"
   ]
  },
  {
   "cell_type": "code",
   "execution_count": null,
   "id": "58887ae8-fac9-4b1f-be34-d938dbf7ae9b",
   "metadata": {},
   "outputs": [],
   "source": [
    "val_performance = {}\n",
    "performance = {}"
   ]
  },
  {
   "cell_type": "code",
   "execution_count": null,
   "id": "1bee8539-279f-4c7c-9633-b7f238332a4f",
   "metadata": {},
   "outputs": [],
   "source": [
    "val_performance = {}\n",
    "performance = {}\n",
    "\n",
    "val_performance['BaseLine'] = baseline.evaluate(single_step_window.val)"
   ]
  },
  {
   "cell_type": "code",
   "execution_count": null,
   "id": "a27dd9bd-b6b8-4a8c-a95a-a082bcd79685",
   "metadata": {},
   "outputs": [],
   "source": [
    "performance['Baseline'] = baseline.evaluate(single_step_window.test)"
   ]
  },
  {
   "cell_type": "code",
   "execution_count": null,
   "id": "8476c570-b8ba-41d8-9659-0657af3c0a47",
   "metadata": {},
   "outputs": [],
   "source": [
    "wide_window = WindowGenerator(\n",
    "    input_width=10,\n",
    "    label_width=10,\n",
    "    shift=1,\n",
    "    train_df=high_train,\n",
    "    val_df=high_val,\n",
    "    test_df=high_test,\n",
    "    label_columns=['High']\n",
    ")"
   ]
  },
  {
   "cell_type": "code",
   "execution_count": null,
   "id": "bbaa05ad-913e-4454-958c-aa8d34d456bb",
   "metadata": {},
   "outputs": [],
   "source": [
    "wide_window"
   ]
  },
  {
   "cell_type": "code",
   "execution_count": null,
   "id": "6c079c00-7695-4593-a0d5-35ddc39e9d70",
   "metadata": {},
   "outputs": [],
   "source": [
    "print('Input shape:', wide_window.example[0].shape)\n",
    "print('Output shape:', baseline(wide_window.example[0]).shape)"
   ]
  },
  {
   "cell_type": "code",
   "execution_count": null,
   "id": "9c635bc7-d88d-4cf7-bc47-d9e5f0664c95",
   "metadata": {},
   "outputs": [],
   "source": [
    "wide_window.plot(baseline, plot_col='High')"
   ]
  },
  {
   "cell_type": "code",
   "execution_count": null,
   "id": "5897736e-c419-4364-a172-4a5a056df5ea",
   "metadata": {},
   "outputs": [],
   "source": [
    "linear = tf.keras.Sequential([\n",
    "    tf.keras.layers.Dense(units=1)\n",
    "])"
   ]
  },
  {
   "cell_type": "code",
   "execution_count": null,
   "id": "df147c41-0052-4deb-8d98-73928868ce42",
   "metadata": {},
   "outputs": [],
   "source": [
    "print('Input shape:', single_step_window.example[0].shape)\n",
    "print('Output shape:', linear(single_step_window.example[0]).shape)"
   ]
  },
  {
   "cell_type": "code",
   "execution_count": 76,
   "id": "f34661dc-509f-4a96-9b49-9a5f55134ddc",
   "metadata": {},
   "outputs": [],
   "source": [
    "MAX_EPOCHS = 20"
   ]
  },
  {
   "cell_type": "code",
   "execution_count": 77,
   "id": "47257869-10e2-4ba1-8b76-bc4b94127726",
   "metadata": {},
   "outputs": [],
   "source": [
    "def compile_and_fit(model, window, patience=2):\n",
    "    early_stopping = tf.keras.callbacks.EarlyStopping(monitor='val_loss', patience=patience, mode='min')\n",
    "    model.compile(loss=tf.losses.MeanSquaredError(),\n",
    "                 optimizer=tf.optimizers.Adam(),\n",
    "                  metrics=[tf.metrics.MeanAbsoluteError()])\n",
    "    \n",
    "    history = model.fit(window.train,\n",
    "                       epochs=MAX_EPOCHS,\n",
    "                       validation_data=window.val,\n",
    "                       callbacks=[early_stopping])\n",
    "    \n",
    "    return history"
   ]
  },
  {
   "cell_type": "code",
   "execution_count": null,
   "id": "048332a8-51ca-428c-9cc2-2fa4a1e62374",
   "metadata": {},
   "outputs": [],
   "source": [
    "history = compile_and_fit(linear, single_step_window)"
   ]
  },
  {
   "cell_type": "code",
   "execution_count": null,
   "id": "f40c083e-405e-4c03-aa6c-6e104bba4d13",
   "metadata": {},
   "outputs": [],
   "source": [
    "single_step_window"
   ]
  },
  {
   "cell_type": "code",
   "execution_count": null,
   "id": "6ffd856c-408c-4692-ac67-8f779128dab9",
   "metadata": {},
   "outputs": [],
   "source": [
    "val_performance['Linear'] = linear.evaluate(single_step_window.val)\n",
    "performance['Linear'] = linear.evaluate(single_step_window.test)"
   ]
  },
  {
   "cell_type": "code",
   "execution_count": null,
   "id": "3f056b04-843c-4285-b198-0f33b03f3aaf",
   "metadata": {},
   "outputs": [],
   "source": [
    "wide_window"
   ]
  },
  {
   "cell_type": "code",
   "execution_count": null,
   "id": "aa89811f-0273-4cca-a39f-12a34f49a9c1",
   "metadata": {},
   "outputs": [],
   "source": [
    "wide_window.plot(linear, plot_col='High')"
   ]
  },
  {
   "cell_type": "code",
   "execution_count": null,
   "id": "4b8c94ed-7eb6-4ebe-9969-3e2be7515fba",
   "metadata": {},
   "outputs": [],
   "source": [
    "plt.bar(\n",
    "    x=range(len(high_train.columns)),\n",
    "    height=linear.layers[0].kernel[:,0].numpy()\n",
    ")\n",
    "\n",
    "axis = plt.gca()\n",
    "axis.set_xticks(range(len(high_train.columns)))\n",
    "_ = axis.set_xticklabels(high_train.columns, rotation=90)"
   ]
  },
  {
   "cell_type": "code",
   "execution_count": null,
   "id": "4b99c3f0-899f-4b08-a804-659bd70ce75c",
   "metadata": {},
   "outputs": [],
   "source": [
    "dense = tf.keras.Sequential([\n",
    "    tf.keras.layers.Dense(units=64, activation='relu'),\n",
    "    tf.keras.layers.Dense(units=64, activation='relu'),\n",
    "    tf.keras.layers.Dense(units=1)\n",
    "])"
   ]
  },
  {
   "cell_type": "code",
   "execution_count": null,
   "id": "da75040c-89b7-4285-8dfe-c8091990d060",
   "metadata": {},
   "outputs": [],
   "source": [
    "history = compile_and_fit(dense, single_step_window)"
   ]
  },
  {
   "cell_type": "code",
   "execution_count": null,
   "id": "1ccbdfea-ece7-48f0-9711-ad82d23625c4",
   "metadata": {},
   "outputs": [],
   "source": [
    "val_performance['Dense'] = dense.evaluate(single_step_window.val)\n",
    "performance['Dense'] = dense.evaluate(single_step_window.test, verbose=0)"
   ]
  },
  {
   "cell_type": "code",
   "execution_count": null,
   "id": "e6dcc98f-5ab3-4786-a894-b6efe96940e5",
   "metadata": {},
   "outputs": [],
   "source": [
    "wide_window.plot(dense, plot_col='High')"
   ]
  },
  {
   "cell_type": "code",
   "execution_count": null,
   "id": "23cf4a80-1aa6-4f6b-aff8-c8c521b5e745",
   "metadata": {},
   "outputs": [],
   "source": [
    "history = compile_and_fit(dense, single_step_window)"
   ]
  },
  {
   "cell_type": "code",
   "execution_count": null,
   "id": "89eb1ee4-3fb0-4b56-912e-2835b1cfbc3e",
   "metadata": {},
   "outputs": [],
   "source": [
    "wide_window.plot(dense, plot_col='High')"
   ]
  },
  {
   "cell_type": "code",
   "execution_count": null,
   "id": "d6b2b862-a4c6-4bbb-a4e8-894e0cf5b2b3",
   "metadata": {},
   "outputs": [],
   "source": [
    "history = compile_and_fit(dense, wide_window)"
   ]
  },
  {
   "cell_type": "code",
   "execution_count": null,
   "id": "8755e343-b060-481f-8f47-28a5d6a24c53",
   "metadata": {},
   "outputs": [],
   "source": [
    "CONV_WIDTH = 3"
   ]
  },
  {
   "cell_type": "code",
   "execution_count": null,
   "id": "4032a162-f0c7-4c9e-9079-9551bf07f13b",
   "metadata": {},
   "outputs": [],
   "source": [
    "conv_window = WindowGenerator(\n",
    "    input_width=CONV_WIDTH,\n",
    "    label_width=1,\n",
    "    shift=1,\n",
    "    train_df=high_train,\n",
    "    val_df=high_val,\n",
    "    test_df=high_test,\n",
    "    label_columns=['High']\n",
    ")"
   ]
  },
  {
   "cell_type": "code",
   "execution_count": null,
   "id": "b6950d28-fd1a-41a2-aa77-8a8c8e5b7946",
   "metadata": {},
   "outputs": [],
   "source": [
    "conv_window"
   ]
  },
  {
   "cell_type": "code",
   "execution_count": null,
   "id": "57f3b99f-0f02-4e45-8126-9e57859c8044",
   "metadata": {},
   "outputs": [],
   "source": [
    "conv_window.plot(model=None, plot_col='High')"
   ]
  },
  {
   "cell_type": "code",
   "execution_count": null,
   "id": "3dc2a0b1-9faa-40b7-bfbe-2ee9575602f3",
   "metadata": {},
   "outputs": [],
   "source": [
    "multi_step_dense = tf.keras.Sequential([\n",
    "    tf.keras.layers.Flatten(),\n",
    "    tf.keras.layers.Dense(units=32, activation='relu'),\n",
    "    tf.keras.layers.Dense(units=32, activation='relu'),\n",
    "    tf.keras.layers.Dense(units=1),\n",
    "    tf.keras.layers.Reshape([1, -1]),\n",
    "])"
   ]
  },
  {
   "cell_type": "code",
   "execution_count": null,
   "id": "9cc26546-5123-4c74-9566-86992df18975",
   "metadata": {},
   "outputs": [],
   "source": [
    "history = compile_and_fit(multi_step_dense, conv_window)"
   ]
  },
  {
   "cell_type": "code",
   "execution_count": null,
   "id": "066f8fd4-00c6-4a08-a794-75963ea8bf22",
   "metadata": {},
   "outputs": [],
   "source": [
    "conv_window.plot(multi_step_dense, plot_col='High')"
   ]
  },
  {
   "cell_type": "code",
   "execution_count": null,
   "id": "36306849-4f23-4dba-bb59-9223239a0aff",
   "metadata": {},
   "outputs": [],
   "source": [
    "conv_model = tf.keras.Sequential([\n",
    "    tf.keras.layers.Conv1D(filters=32, kernel_size=(CONV_WIDTH,), activation='relu'),\n",
    "    tf.keras.layers.Dense(units=32, activation='relu'),\n",
    "    tf.keras.layers.Dense(units=1)\n",
    "])"
   ]
  },
  {
   "cell_type": "code",
   "execution_count": null,
   "id": "10516db3-8e81-4361-8b3d-49737322194e",
   "metadata": {},
   "outputs": [],
   "source": [
    "history = compile_and_fit(conv_model, conv_window)"
   ]
  },
  {
   "cell_type": "code",
   "execution_count": null,
   "id": "3eb9754b-cedd-455b-9465-c73ccceba61e",
   "metadata": {},
   "outputs": [],
   "source": [
    "conv_window.plot(conv_model, plot_col='High')"
   ]
  },
  {
   "cell_type": "code",
   "execution_count": null,
   "id": "661e9207-0404-4937-87ea-1b66a0f2046c",
   "metadata": {},
   "outputs": [],
   "source": [
    "window = WindowGenerator(\n",
    "    input_width=20,\n",
    "    label_width=20,\n",
    "    shift=20,\n",
    "    train_df=high_train,\n",
    "    val_df=high_val,\n",
    "    test_df=high_test,\n",
    "    label_columns=['High']\n",
    ")"
   ]
  },
  {
   "cell_type": "code",
   "execution_count": null,
   "id": "dec08eae-64c0-46b7-8baf-917b8fc15abb",
   "metadata": {},
   "outputs": [],
   "source": [
    "window"
   ]
  },
  {
   "cell_type": "code",
   "execution_count": null,
   "id": "cfb1d534-ea38-4c21-a02f-db962bb1aa8c",
   "metadata": {},
   "outputs": [],
   "source": [
    "dense_model = tf.keras.Sequential([\n",
    "    tf.keras.layers.Dense(units=16, activation='relu'),\n",
    "    tf.keras.layers.Dense(units=1)\n",
    "])"
   ]
  },
  {
   "cell_type": "code",
   "execution_count": null,
   "id": "39b5909d-a31e-40f2-ba7b-37bebd6b9a75",
   "metadata": {},
   "outputs": [],
   "source": [
    "history = compile_and_fit(dense_model, window)"
   ]
  },
  {
   "cell_type": "code",
   "execution_count": null,
   "id": "fbc0403b-e587-402f-8f8b-11146378b37a",
   "metadata": {},
   "outputs": [],
   "source": [
    "window.plot(dense_model, plot_col='High')"
   ]
  },
  {
   "cell_type": "code",
   "execution_count": null,
   "id": "1ccc8208-d95f-4376-ba52-bd082a573f40",
   "metadata": {},
   "outputs": [],
   "source": [
    "dense_model.summary()"
   ]
  },
  {
   "cell_type": "code",
   "execution_count": null,
   "id": "b7f1341c-9309-4430-9a49-75f159d7f83f",
   "metadata": {},
   "outputs": [],
   "source": [
    "window"
   ]
  },
  {
   "cell_type": "code",
   "execution_count": null,
   "id": "0e76075a-cb86-42e6-be9c-b9529e5f2ad0",
   "metadata": {},
   "outputs": [],
   "source": [
    "inputs, labels = window.example"
   ]
  },
  {
   "cell_type": "code",
   "execution_count": null,
   "id": "f98da06a-7caf-4a21-809b-52bf5ac0cb27",
   "metadata": {},
   "outputs": [],
   "source": [
    "labels.shape"
   ]
  },
  {
   "cell_type": "code",
   "execution_count": null,
   "id": "290cfb52-f901-4ce8-b98d-136b6ff7a39f",
   "metadata": {},
   "outputs": [],
   "source": [
    "inputs.shape"
   ]
  },
  {
   "cell_type": "code",
   "execution_count": null,
   "id": "eea6dc50-fe5e-4c71-94b8-0279fb6637e0",
   "metadata": {},
   "outputs": [],
   "source": [
    "len(inputs)"
   ]
  },
  {
   "cell_type": "code",
   "execution_count": null,
   "id": "ffeba8a4-8e15-491b-8cc9-2ec68aa31ea7",
   "metadata": {},
   "outputs": [],
   "source": [
    "len(high_test)"
   ]
  },
  {
   "cell_type": "code",
   "execution_count": null,
   "id": "56911d70-06a2-442d-853a-7109d84bae62",
   "metadata": {},
   "outputs": [],
   "source": [
    "high_test"
   ]
  },
  {
   "cell_type": "code",
   "execution_count": null,
   "id": "ab2dc365-7ace-44e3-9c44-a1f85b974308",
   "metadata": {},
   "outputs": [],
   "source": [
    "high_val[-20:]"
   ]
  },
  {
   "cell_type": "code",
   "execution_count": null,
   "id": "86dd8d13-e53e-4829-a53f-d80aa939b6f7",
   "metadata": {},
   "outputs": [],
   "source": [
    "high_test"
   ]
  },
  {
   "cell_type": "markdown",
   "id": "3cbf2ff6-45bc-4c5f-a23f-e299910266b2",
   "metadata": {},
   "source": [
    "=\n",
    "=\n",
    "=\n",
    "=\n",
    "=\n",
    "=\n",
    "=\n",
    "=\n",
    "=\n",
    "=\n"
   ]
  },
  {
   "cell_type": "code",
   "execution_count": 100,
   "id": "07162707-80ba-4eaa-8c07-45d8cad7f1ca",
   "metadata": {},
   "outputs": [],
   "source": [
    "data_raw = pd.read_table('data/MSFT.csv', sep=',')\n",
    "high_raw = data_raw.loc[:, ['High']]"
   ]
  },
  {
   "cell_type": "code",
   "execution_count": 101,
   "id": "e3a0c553-f898-4062-89a3-96cdc70984ef",
   "metadata": {},
   "outputs": [],
   "source": [
    "high_test = high_raw[1489:]\n",
    "high_raw = high_raw[:1489]\n",
    "\n",
    "n = len(high_raw)\n",
    "high_train = high_raw[:int(n*0.8)]\n",
    "high_val = high_raw[int(n*0.8):]\n",
    "\n",
    "high_mean = np.mean(high_train)\n",
    "high_std = np.std(high_train)\n",
    "\n",
    "high_train = (high_train - high_mean) / high_std\n",
    "high_test = (high_test - high_mean) / high_std\n",
    "high_val = (high_val - high_mean) / high_std"
   ]
  },
  {
   "cell_type": "code",
   "execution_count": 102,
   "id": "afb251b6-f3cd-4586-a3f6-7314df586fb3",
   "metadata": {},
   "outputs": [
    {
     "data": {
      "text/plain": [
       "High    28.991413\n",
       "dtype: float64"
      ]
     },
     "execution_count": 102,
     "metadata": {},
     "output_type": "execute_result"
    }
   ],
   "source": [
    "high_std"
   ]
  },
  {
   "cell_type": "code",
   "execution_count": 103,
   "id": "782be176-1261-40ca-b674-ab9b74fb0387",
   "metadata": {},
   "outputs": [
    {
     "name": "stdout",
     "output_type": "stream",
     "text": [
      "1191\n",
      "22\n",
      "298\n"
     ]
    }
   ],
   "source": [
    "print(len(high_train))\n",
    "print(len(high_test))\n",
    "print(len(high_val))"
   ]
  },
  {
   "cell_type": "code",
   "execution_count": 104,
   "id": "f79832ff-c1aa-4c8c-afe2-aab77397da64",
   "metadata": {},
   "outputs": [
    {
     "data": {
      "text/plain": [
       "[<matplotlib.lines.Line2D at 0x7f038c8896a0>]"
      ]
     },
     "execution_count": 104,
     "metadata": {},
     "output_type": "execute_result"
    },
    {
     "data": {
      "image/png": "[encoded data removed]",
      "text/plain": [
       "<Figure size 720x720 with 1 Axes>"
      ]
     },
     "metadata": {
      "needs_background": "light"
     },
     "output_type": "display_data"
    }
   ],
   "source": [
    "fig, ax = plt.subplots(figsize=(10, 10))\n",
    "plt.plot(high_train)"
   ]
  },
  {
   "cell_type": "code",
   "execution_count": 105,
   "id": "b07f4369-5d2d-48fd-8831-aed0cbe62959",
   "metadata": {},
   "outputs": [
    {
     "data": {
      "text/plain": [
       "[<matplotlib.lines.Line2D at 0x7f03686b66a0>]"
      ]
     },
     "execution_count": 105,
     "metadata": {},
     "output_type": "execute_result"
    },
    {
     "data": {
      "image/png": "[encoded data removed]",
      "text/plain": [
       "<Figure size 720x720 with 1 Axes>"
      ]
     },
     "metadata": {
      "needs_background": "light"
     },
     "output_type": "display_data"
    }
   ],
   "source": [
    "fig, ax = plt.subplots(figsize=(10, 10))\n",
    "plt.plot(high_val)"
   ]
  },
  {
   "cell_type": "code",
   "execution_count": 106,
   "id": "2ad9ecfe-1f0f-4a67-a0d9-feefa4cc1cf8",
   "metadata": {},
   "outputs": [
    {
     "data": {
      "text/plain": [
       "[<matplotlib.lines.Line2D at 0x7f0368431470>]"
      ]
     },
     "execution_count": 106,
     "metadata": {},
     "output_type": "execute_result"
    },
    {
     "data": {
      "image/png": "[encoded data removed]",
      "text/plain": [
       "<Figure size 432x288 with 1 Axes>"
      ]
     },
     "metadata": {
      "needs_background": "light"
     },
     "output_type": "display_data"
    }
   ],
   "source": [
    "plt.plot(high_test)"
   ]
  },
  {
   "cell_type": "code",
   "execution_count": 107,
   "id": "a7b3cc83-1060-4b09-9a87-b96bae60b452",
   "metadata": {},
   "outputs": [],
   "source": [
    "window = WindowGenerator(\n",
    "    input_width=20,\n",
    "    label_width=20,\n",
    "    shift=20,\n",
    "    train_df=high_train,\n",
    "    val_df=high_val,\n",
    "    test_df=high_test,\n",
    "    label_columns=['High']\n",
    ")"
   ]
  },
  {
   "cell_type": "code",
   "execution_count": 114,
   "id": "7002265c-aa3a-4498-8bf8-0ca96d7c704d",
   "metadata": {},
   "outputs": [
    {
     "data": {
      "text/plain": [
       "Total window size : 40\n",
       "Input indices : [ 0  1  2  3  4  5  6  7  8  9 10 11 12 13 14 15 16 17 18 19]\n",
       "Label indices : [20 21 22 23 24 25 26 27 28 29 30 31 32 33 34 35 36 37 38 39]\n",
       "Label column name(s) : ['High']"
      ]
     },
     "execution_count": 114,
     "metadata": {},
     "output_type": "execute_result"
    }
   ],
   "source": [
    "window"
   ]
  },
  {
   "cell_type": "code",
   "execution_count": 115,
   "id": "6b86a239-647b-4625-9de6-d12a2c97c9c4",
   "metadata": {},
   "outputs": [],
   "source": [
    "dense_model = tf.keras.Sequential([\n",
    "    tf.keras.layers.Dense(units=32, activation='relu'),\n",
    "    tf.keras.layers.Dropout(0.1),\n",
    "    tf.keras.layers.Dense(units=32, activation='relu'),\n",
    "    tf.keras.layers.Dense(units=1)\n",
    "])"
   ]
  },
  {
   "cell_type": "code",
   "execution_count": 116,
   "id": "5e9b7d60-4c83-4560-9d0e-81fa6cf28ae8",
   "metadata": {},
   "outputs": [
    {
     "name": "stdout",
     "output_type": "stream",
     "text": [
      "Epoch 1/20\n",
      "36/36 [==============================] - 1s 7ms/step - loss: 0.5973 - mean_absolute_error: 0.5772 - val_loss: 8.6792 - val_mean_absolute_error: 2.8597\n",
      "Epoch 2/20\n",
      "36/36 [==============================] - 0s 4ms/step - loss: 0.1706 - mean_absolute_error: 0.2639 - val_loss: 2.5346 - val_mean_absolute_error: 1.5077\n",
      "Epoch 3/20\n",
      "36/36 [==============================] - 0s 4ms/step - loss: 0.0406 - mean_absolute_error: 0.1442 - val_loss: 0.7055 - val_mean_absolute_error: 0.7698\n",
      "Epoch 4/20\n",
      "36/36 [==============================] - 0s 5ms/step - loss: 0.0318 - mean_absolute_error: 0.1329 - val_loss: 0.7742 - val_mean_absolute_error: 0.8112\n",
      "Epoch 5/20\n",
      "36/36 [==============================] - 0s 5ms/step - loss: 0.0290 - mean_absolute_error: 0.1257 - val_loss: 0.5730 - val_mean_absolute_error: 0.6873\n",
      "Epoch 6/20\n",
      "36/36 [==============================] - 0s 5ms/step - loss: 0.0256 - mean_absolute_error: 0.1189 - val_loss: 0.4169 - val_mean_absolute_error: 0.5737\n",
      "Epoch 7/20\n",
      "36/36 [==============================] - 0s 5ms/step - loss: 0.0244 - mean_absolute_error: 0.1155 - val_loss: 0.4026 - val_mean_absolute_error: 0.5628\n",
      "Epoch 8/20\n",
      "36/36 [==============================] - 0s 5ms/step - loss: 0.0231 - mean_absolute_error: 0.1128 - val_loss: 0.3931 - val_mean_absolute_error: 0.5553\n",
      "Epoch 9/20\n",
      "36/36 [==============================] - 0s 5ms/step - loss: 0.0221 - mean_absolute_error: 0.1103 - val_loss: 0.3819 - val_mean_absolute_error: 0.5460\n",
      "Epoch 10/20\n",
      "36/36 [==============================] - 0s 5ms/step - loss: 0.0217 - mean_absolute_error: 0.1093 - val_loss: 0.4008 - val_mean_absolute_error: 0.5618\n",
      "Epoch 11/20\n",
      "36/36 [==============================] - 0s 6ms/step - loss: 0.0216 - mean_absolute_error: 0.1093 - val_loss: 0.3904 - val_mean_absolute_error: 0.5533\n"
     ]
    }
   ],
   "source": [
    "history = compile_and_fit(dense_model, window)"
   ]
  },
  {
   "cell_type": "code",
   "execution_count": 119,
   "id": "c9ae5963-cb85-49e7-8fb8-87f73b071736",
   "metadata": {
    "tags": []
   },
   "outputs": [
    {
     "data": {
      "image/png": "[encoded data removed]",
      "text/plain": [
       "<Figure size 864x576 with 3 Axes>"
      ]
     },
     "metadata": {
      "needs_background": "light"
     },
     "output_type": "display_data"
    }
   ],
   "source": [
    "window.plot(dense_model, plot_col='High')"
   ]
  },
  {
   "cell_type": "code",
   "execution_count": 120,
   "id": "dec310b7-ab3c-45cf-95e1-d8019b5be204",
   "metadata": {},
   "outputs": [],
   "source": [
    "high_val[-20:];"
   ]
  },
  {
   "cell_type": "code",
   "execution_count": 121,
   "id": "20353036-d9e9-465c-9a68-a6d6c3aa459a",
   "metadata": {},
   "outputs": [
    {
     "data": {
      "text/plain": [
       "array([[4.80531147],\n",
       "       [4.74149926],\n",
       "       [4.772888  ],\n",
       "       [4.73839503],\n",
       "       [4.74391349],\n",
       "       [4.79254872],\n",
       "       [4.73322078],\n",
       "       [4.65906109],\n",
       "       [4.66733958],\n",
       "       [4.76702427],\n",
       "       [4.73977451],\n",
       "       [4.90154665],\n",
       "       [4.9284511 ],\n",
       "       [4.88705964],\n",
       "       [5.03572428],\n",
       "       [5.091948  ],\n",
       "       [5.0205473 ],\n",
       "       [5.02227205],\n",
       "       [5.10574498],\n",
       "       [5.14541169]])"
      ]
     },
     "execution_count": 121,
     "metadata": {},
     "output_type": "execute_result"
    }
   ],
   "source": [
    "np.array(high_test[:20])"
   ]
  },
  {
   "cell_type": "code",
   "execution_count": 122,
   "id": "3cd1127e-e058-4083-8359-8713b8fbe29a",
   "metadata": {},
   "outputs": [],
   "source": [
    "sim_0 = dense_model(np.array(high_val[-20:]))"
   ]
  },
  {
   "cell_type": "code",
   "execution_count": 123,
   "id": "b116a5aa-44d7-41df-827a-1e0277d58330",
   "metadata": {},
   "outputs": [
    {
     "data": {
      "text/plain": [
       "TensorShape([20, 1, 1])"
      ]
     },
     "execution_count": 123,
     "metadata": {},
     "output_type": "execute_result"
    }
   ],
   "source": [
    "sim_0.shape"
   ]
  },
  {
   "cell_type": "code",
   "execution_count": 124,
   "id": "857b639d-b352-43cc-b30e-42b0c40bef00",
   "metadata": {},
   "outputs": [],
   "source": [
    "sim_0_b = tf.reshape(sim_0, shape=[20])"
   ]
  },
  {
   "cell_type": "code",
   "execution_count": 125,
   "id": "21a21ad0-aa7b-4dd6-861b-7440942fcca1",
   "metadata": {},
   "outputs": [
    {
     "data": {
      "text/plain": [
       "<tf.Tensor: shape=(20,), dtype=float32, numpy=\n",
       "array([4.0204015, 4.1042147, 4.405234 , 4.5764003, 4.5834837, 4.6944466,\n",
       "       4.351522 , 4.3969693, 4.4285474, 4.3786726, 4.388117 , 4.386346 ,\n",
       "       4.312271 , 4.249117 , 4.256789 , 4.2272778, 4.2851205, 4.3158126,\n",
       "       4.344734 , 4.300172 ], dtype=float32)>"
      ]
     },
     "execution_count": 125,
     "metadata": {},
     "output_type": "execute_result"
    }
   ],
   "source": [
    "sim_0_b"
   ]
  },
  {
   "cell_type": "code",
   "execution_count": 126,
   "id": "f3f18937-4e32-4f29-955b-a7bbd5564eda",
   "metadata": {},
   "outputs": [
    {
     "data": {
      "text/plain": [
       "[<matplotlib.lines.Line2D at 0x7f03681310b8>]"
      ]
     },
     "execution_count": 126,
     "metadata": {},
     "output_type": "execute_result"
    },
    {
     "data": {
      "image/png": "[encoded data removed]",
      "text/plain": [
       "<Figure size 720x720 with 1 Axes>"
      ]
     },
     "metadata": {
      "needs_background": "light"
     },
     "output_type": "display_data"
    }
   ],
   "source": [
    "fig, ax = plt.subplots(figsize=(10, 10))\n",
    "plt.plot(list(range(0, 20)), high_test['High'][:20], label='Real data')\n",
    "plt.plot(list(range(0, 20)), sim_0_b, label='Simulation')"
   ]
  },
  {
   "cell_type": "code",
   "execution_count": 359,
   "id": "f94b2a18-98d9-4611-92e9-5f7f906325cc",
   "metadata": {},
   "outputs": [],
   "source": [
    "window_2 = WindowGenerator(\n",
    "    input_width=3,\n",
    "    label_width=3,\n",
    "    shift=3,\n",
    "    train_df=high_train,\n",
    "    val_df=high_val,\n",
    "    test_df=high_test,\n",
    "    label_columns=['High']\n",
    ")"
   ]
  },
  {
   "cell_type": "code",
   "execution_count": 360,
   "id": "e6564d72-d936-4a7f-abaf-7a43d012ebc6",
   "metadata": {},
   "outputs": [
    {
     "data": {
      "text/plain": [
       "Total window size : 6\n",
       "Input indices : [0 1 2]\n",
       "Label indices : [3 4 5]\n",
       "Label column name(s) : ['High']"
      ]
     },
     "execution_count": 360,
     "metadata": {},
     "output_type": "execute_result"
    }
   ],
   "source": [
    "window_2"
   ]
  },
  {
   "cell_type": "code",
   "execution_count": 361,
   "id": "6c620b8e-a1cd-457b-8203-77f6eafedb91",
   "metadata": {},
   "outputs": [],
   "source": [
    "dense_model_2 = tf.keras.Sequential([\n",
    "    tf.keras.layers.Dense(units=32, activation='relu'),\n",
    "    tf.keras.layers.Dropout(0.1),\n",
    "    tf.keras.layers.Dense(units=32, activation='relu'),\n",
    "    tf.keras.layers.Dense(units=1)\n",
    "])"
   ]
  },
  {
   "cell_type": "code",
   "execution_count": 362,
   "id": "3acb4ec2-1198-42d4-af62-0f570b5b9432",
   "metadata": {},
   "outputs": [
    {
     "name": "stdout",
     "output_type": "stream",
     "text": [
      "Epoch 1/20\n",
      "38/38 [==============================] - 1s 11ms/step - loss: 0.6955 - mean_absolute_error: 0.6211 - val_loss: 5.7939 - val_mean_absolute_error: 2.3154\n",
      "Epoch 2/20\n",
      "38/38 [==============================] - 0s 4ms/step - loss: 0.0754 - mean_absolute_error: 0.1744 - val_loss: 0.3629 - val_mean_absolute_error: 0.5342\n",
      "Epoch 3/20\n",
      "38/38 [==============================] - 0s 4ms/step - loss: 0.0255 - mean_absolute_error: 0.1178 - val_loss: 0.4039 - val_mean_absolute_error: 0.5728\n",
      "Epoch 4/20\n",
      "38/38 [==============================] - 0s 4ms/step - loss: 0.0209 - mean_absolute_error: 0.1055 - val_loss: 0.2856 - val_mean_absolute_error: 0.4738\n",
      "Epoch 5/20\n",
      "38/38 [==============================] - 0s 4ms/step - loss: 0.0183 - mean_absolute_error: 0.0985 - val_loss: 0.2177 - val_mean_absolute_error: 0.4090\n",
      "Epoch 6/20\n",
      "38/38 [==============================] - 0s 4ms/step - loss: 0.0160 - mean_absolute_error: 0.0896 - val_loss: 0.1294 - val_mean_absolute_error: 0.3032\n",
      "Epoch 7/20\n",
      "38/38 [==============================] - 0s 4ms/step - loss: 0.0156 - mean_absolute_error: 0.0884 - val_loss: 0.1111 - val_mean_absolute_error: 0.2783\n",
      "Epoch 8/20\n",
      "38/38 [==============================] - 0s 4ms/step - loss: 0.0135 - mean_absolute_error: 0.0812 - val_loss: 0.1011 - val_mean_absolute_error: 0.2634\n",
      "Epoch 9/20\n",
      "38/38 [==============================] - 0s 7ms/step - loss: 0.0138 - mean_absolute_error: 0.0809 - val_loss: 0.0605 - val_mean_absolute_error: 0.1940\n",
      "Epoch 10/20\n",
      "38/38 [==============================] - 0s 4ms/step - loss: 0.0130 - mean_absolute_error: 0.0797 - val_loss: 0.0722 - val_mean_absolute_error: 0.2169\n",
      "Epoch 11/20\n",
      "38/38 [==============================] - 0s 4ms/step - loss: 0.0118 - mean_absolute_error: 0.0753 - val_loss: 0.0710 - val_mean_absolute_error: 0.2146\n"
     ]
    }
   ],
   "source": [
    "history_2 = compile_and_fit(dense_model_2, window_2)"
   ]
  },
  {
   "cell_type": "code",
   "execution_count": 363,
   "id": "242bddeb-f1ed-4c82-97e0-a20cec8a7220",
   "metadata": {},
   "outputs": [
    {
     "data": {
      "image/png": "[encoded data removed]",
      "text/plain": [
       "<Figure size 864x576 with 3 Axes>"
      ]
     },
     "metadata": {
      "needs_background": "light"
     },
     "output_type": "display_data"
    }
   ],
   "source": [
    "window_2.plot(dense_model_2, plot_col='High')"
   ]
  },
  {
   "cell_type": "code",
   "execution_count": 364,
   "id": "5e4ff7c4-77a1-472a-8394-848370fbd35b",
   "metadata": {},
   "outputs": [],
   "source": [
    "walk = []"
   ]
  },
  {
   "cell_type": "code",
   "execution_count": 365,
   "id": "9966606f-10d6-46b2-bf48-076b3c6002e1",
   "metadata": {},
   "outputs": [],
   "source": [
    "step = dense_model_2(np.array(high_val[-1:]))\n",
    "walk.append(step.numpy()[0][0][0])"
   ]
  },
  {
   "cell_type": "code",
   "execution_count": 366,
   "id": "a36b74bd-bb10-4df1-8171-87515496c295",
   "metadata": {},
   "outputs": [],
   "source": [
    "for i in range(19):\n",
    "    step = dense_model_2(step)\n",
    "    walk.append(step.numpy()[0][0][0])"
   ]
  },
  {
   "cell_type": "code",
   "execution_count": 367,
   "id": "25836738-7ca9-4ae5-9362-4a0b5f4058e8",
   "metadata": {},
   "outputs": [
    {
     "data": {
      "text/plain": [
       "[4.4947724,\n",
       " 4.2866445,\n",
       " 4.0917287,\n",
       " 3.9091876,\n",
       " 3.7382345,\n",
       " 3.5781343,\n",
       " 3.4281979,\n",
       " 3.2877793,\n",
       " 3.1562755,\n",
       " 3.0331204,\n",
       " 2.917783,\n",
       " 2.8097682,\n",
       " 2.7086103,\n",
       " 2.613874,\n",
       " 2.525152,\n",
       " 2.4420626,\n",
       " 2.3642476,\n",
       " 2.2913728,\n",
       " 2.2230177,\n",
       " 2.1588283]"
      ]
     },
     "execution_count": 367,
     "metadata": {},
     "output_type": "execute_result"
    }
   ],
   "source": [
    "walk"
   ]
  },
  {
   "cell_type": "code",
   "execution_count": null,
   "id": "30011cb5-f439-4f64-93c1-f433b2c27d33",
   "metadata": {},
   "outputs": [],
   "source": []
  }
 ],
 "metadata": {
  "kernelspec": {
   "display_name": "Python 3",
   "language": "python",
   "name": "python3"
  },
  "language_info": {
   "codemirror_mode": {
    "name": "ipython",
    "version": 3
   },
   "file_extension": ".py",
   "mimetype": "text/x-python",
   "name": "python",
   "nbconvert_exporter": "python",
   "pygments_lexer": "ipython3",
   "version": "3.7.3"
  }
 },
 "nbformat": 4,
 "nbformat_minor": 5
}
